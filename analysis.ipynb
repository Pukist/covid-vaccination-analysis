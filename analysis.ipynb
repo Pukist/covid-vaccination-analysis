{
 "cells": [
  {
   "cell_type": "markdown",
   "metadata": {},
   "source": [
    "Проект- Анализ данных о вакцинации от COVID-19"
   ]
  },
  {
   "cell_type": "code",
   "execution_count": 1,
   "metadata": {},
   "outputs": [],
   "source": [
    "import pandas as pd\n",
    "import numpy as np\n",
    "from matplotlib import pyplot as plt \n",
    "import plotly.express as px\n",
    "import plotly.graph_objects as go\n",
    "\n",
    "\n",
    "\n",
    "\n",
    "df = pd.read_csv('country_vaccinations.csv')"
   ]
  },
  {
   "cell_type": "code",
   "execution_count": 2,
   "metadata": {},
   "outputs": [
    {
     "name": "stdout",
     "output_type": "stream",
     "text": [
      "<class 'pandas.core.frame.DataFrame'>\n",
      "RangeIndex: 86512 entries, 0 to 86511\n",
      "Data columns (total 15 columns):\n",
      " #   Column                               Non-Null Count  Dtype  \n",
      "---  ------                               --------------  -----  \n",
      " 0   country                              86512 non-null  object \n",
      " 1   iso_code                             86512 non-null  object \n",
      " 2   date                                 86512 non-null  object \n",
      " 3   total_vaccinations                   43607 non-null  float64\n",
      " 4   people_vaccinated                    41294 non-null  float64\n",
      " 5   people_fully_vaccinated              38802 non-null  float64\n",
      " 6   daily_vaccinations_raw               35362 non-null  float64\n",
      " 7   daily_vaccinations                   86213 non-null  float64\n",
      " 8   total_vaccinations_per_hundred       43607 non-null  float64\n",
      " 9   people_vaccinated_per_hundred        41294 non-null  float64\n",
      " 10  people_fully_vaccinated_per_hundred  38802 non-null  float64\n",
      " 11  daily_vaccinations_per_million       86213 non-null  float64\n",
      " 12  vaccines                             86512 non-null  object \n",
      " 13  source_name                          86512 non-null  object \n",
      " 14  source_website                       86512 non-null  object \n",
      "dtypes: float64(9), object(6)\n",
      "memory usage: 9.9+ MB\n"
     ]
    }
   ],
   "source": [
    "df.info()"
   ]
  },
  {
   "cell_type": "markdown",
   "metadata": {},
   "source": [
    "Как видно на изображении, в наборе данных присутствует много пропущенных значений (null). Мы обработаем их далее в этой статье.\n",
    "\n",
    "Типы данных в таблице представлены как:\n",
    "\n",
    "object (текстовые/строковые данные)\n",
    "\n",
    "float (вещественные числа).\n"
   ]
  },
  {
   "cell_type": "code",
   "execution_count": 3,
   "metadata": {},
   "outputs": [
    {
     "data": {
      "text/plain": [
       "country                                    0\n",
       "iso_code                                   0\n",
       "date                                       0\n",
       "total_vaccinations                     42905\n",
       "people_vaccinated                      45218\n",
       "people_fully_vaccinated                47710\n",
       "daily_vaccinations_raw                 51150\n",
       "daily_vaccinations                       299\n",
       "total_vaccinations_per_hundred         42905\n",
       "people_vaccinated_per_hundred          45218\n",
       "people_fully_vaccinated_per_hundred    47710\n",
       "daily_vaccinations_per_million           299\n",
       "vaccines                                   0\n",
       "source_name                                0\n",
       "source_website                             0\n",
       "dtype: int64"
      ]
     },
     "execution_count": 3,
     "metadata": {},
     "output_type": "execute_result"
    }
   ],
   "source": [
    "df.isnull().sum()"
   ]
  },
  {
   "cell_type": "markdown",
   "metadata": {},
   "source": [
    "Эта функция выводит количество отсутствующих значений (NA) по каждому полю датасета.\n",
    "\n",
    "Согласно данным, некоторые признаки (например, country) полностью заполнены, тогда как people_fully_vaccinated содержит 47710 пропусков, что требует дополнительной обработки."
   ]
  },
  {
   "cell_type": "markdown",
   "metadata": {},
   "source": [
    "**Предварительная обработка и очистка данных**"
   ]
  },
  {
   "cell_type": "code",
   "execution_count": 4,
   "metadata": {},
   "outputs": [],
   "source": [
    "# Преобразование даты\n",
    "df['date'] = pd.to_datetime(df['date'], errors='coerce')\n",
    "\n",
    "# Сортировка\n",
    "df = df.sort_values(['country', 'date'])\n",
    "\n",
    "# Для кумулятивных показателей\n",
    "cumulative_cols = [\n",
    "    'total_vaccinations', \n",
    "    'people_vaccinated',\n",
    "    'people_fully_vaccinated'\n",
    "]\n",
    "\n",
    "for col in cumulative_cols:\n",
    "    if col in df.columns:\n",
    "        # Более аккуратное заполнение только внутри групп\n",
    "        df[col] = df.groupby('country')[col].transform(\n",
    "            lambda x: x.ffill().bfill()\n",
    "        )\n",
    "\n",
    "# Для процентных показателей (не заполняем нулями!)\n",
    "percent_cols = [\n",
    "    'total_vaccinations_per_hundred',\n",
    "    'people_vaccinated_per_hundred',\n",
    "    'people_fully_vaccinated_per_hundred'\n",
    "]\n",
    "\n",
    "for col in percent_cols:\n",
    "    if col in df.columns:\n",
    "        df[col] = df.groupby('country')[col].ffill()\n",
    "\n",
    "# Для ежедневных показателей оставляем NaN где данных нет\n",
    "daily_cols = [\n",
    "    'daily_vaccinations_raw',\n",
    "    'daily_vaccinations', \n",
    "    'daily_vaccinations_per_million'\n",
    "]\n",
    "\n",
    "# Преобразование типов с сохранением дробной части\n",
    "df[daily_cols] = df[daily_cols].apply(pd.to_numeric, errors='coerce')"
   ]
  },
  {
   "cell_type": "markdown",
   "metadata": {},
   "source": [
    "Как мы уже видели, в наборе данных присутствует множество пропущенных значений (null). Прежде чем переходить к анализу, необходимо очистить данные.\n",
    "\n",
    "Краткое описание что делает этот код:\n",
    "\n",
    "Преобразует даты в правильный формат\n",
    "\n",
    "Сортирует данные по странам и датам\n",
    "\n",
    "Заполняет пропуски в накапливающихся показателях (используя предыдущие/следующие значения)\n",
    "\n",
    "Заменяет все оставшиеся пропуски нулями\n",
    "\n",
    "Преобразует числовые колонки в целые числа"
   ]
  },
  {
   "cell_type": "markdown",
   "metadata": {},
   "source": [
    "**Обзор данных и общая статистика**"
   ]
  },
  {
   "cell_type": "code",
   "execution_count": 5,
   "metadata": {},
   "outputs": [
    {
     "name": "stdout",
     "output_type": "stream",
     "text": [
      "Дата начала данных: 2020-12-02\n",
      "Дата окончания данных: 2022-03-29 \n",
      "\n",
      "Общее количество стран в наборе данных: 223\n",
      "Общее количество уникальных вакцин в наборе данных: 84 \n",
      "\n",
      "Продолжительность данных: 482 дней\n",
      "Общее количество записей о вакцинации: 86512\n"
     ]
    }
   ],
   "source": [
    "\n",
    "# Статистика по датам\n",
    "print('Дата начала данных:', df['date'].min().strftime('%Y-%m-%d'))\n",
    "print('Дата окончания данных:', df['date'].max().strftime('%Y-%m-%d'), '\\n')\n",
    "\n",
    "# Выводим статистику по странам и вакцинам \n",
    "print('Общее количество стран в наборе данных:', len(df['country'].unique()))\n",
    "print('Общее количество уникальных вакцин в наборе данных:', len(df['vaccines'].unique()), '\\n')\n",
    "\n",
    "# Дополнительная полезная статистика \n",
    "print('Продолжительность данных:', (df['date'].max() - df['date'].min()).days, 'дней')\n",
    "print('Общее количество записей о вакцинации:', len(df))"
   ]
  },
  {
   "cell_type": "code",
   "execution_count": 6,
   "metadata": {},
   "outputs": [
    {
     "data": {
      "text/html": [
       "<div>\n",
       "<style scoped>\n",
       "    .dataframe tbody tr th:only-of-type {\n",
       "        vertical-align: middle;\n",
       "    }\n",
       "\n",
       "    .dataframe tbody tr th {\n",
       "        vertical-align: top;\n",
       "    }\n",
       "\n",
       "    .dataframe thead th {\n",
       "        text-align: right;\n",
       "    }\n",
       "</style>\n",
       "<table border=\"1\" class=\"dataframe\">\n",
       "  <thead>\n",
       "    <tr style=\"text-align: right;\">\n",
       "      <th></th>\n",
       "      <th>date</th>\n",
       "      <th>total_vaccinations</th>\n",
       "      <th>people_vaccinated</th>\n",
       "      <th>people_fully_vaccinated</th>\n",
       "      <th>daily_vaccinations_raw</th>\n",
       "      <th>daily_vaccinations</th>\n",
       "      <th>total_vaccinations_per_hundred</th>\n",
       "      <th>people_vaccinated_per_hundred</th>\n",
       "      <th>people_fully_vaccinated_per_hundred</th>\n",
       "      <th>daily_vaccinations_per_million</th>\n",
       "    </tr>\n",
       "  </thead>\n",
       "  <tbody>\n",
       "    <tr>\n",
       "      <th>count</th>\n",
       "      <td>86512</td>\n",
       "      <td>8.651200e+04</td>\n",
       "      <td>8.651200e+04</td>\n",
       "      <td>8.651200e+04</td>\n",
       "      <td>3.536200e+04</td>\n",
       "      <td>8.621300e+04</td>\n",
       "      <td>86481.000000</td>\n",
       "      <td>85725.000000</td>\n",
       "      <td>76023.000000</td>\n",
       "      <td>86213.000000</td>\n",
       "    </tr>\n",
       "    <tr>\n",
       "      <th>mean</th>\n",
       "      <td>2021-09-01 17:09:45.907157504</td>\n",
       "      <td>2.589548e+07</td>\n",
       "      <td>1.461117e+07</td>\n",
       "      <td>1.223773e+07</td>\n",
       "      <td>2.705996e+05</td>\n",
       "      <td>1.313055e+05</td>\n",
       "      <td>67.139746</td>\n",
       "      <td>35.194628</td>\n",
       "      <td>31.415665</td>\n",
       "      <td>3257.049157</td>\n",
       "    </tr>\n",
       "    <tr>\n",
       "      <th>min</th>\n",
       "      <td>2020-12-02 00:00:00</td>\n",
       "      <td>0.000000e+00</td>\n",
       "      <td>0.000000e+00</td>\n",
       "      <td>1.000000e+00</td>\n",
       "      <td>0.000000e+00</td>\n",
       "      <td>0.000000e+00</td>\n",
       "      <td>0.000000</td>\n",
       "      <td>0.000000</td>\n",
       "      <td>0.000000</td>\n",
       "      <td>0.000000</td>\n",
       "    </tr>\n",
       "    <tr>\n",
       "      <th>25%</th>\n",
       "      <td>2021-05-27 00:00:00</td>\n",
       "      <td>1.181850e+05</td>\n",
       "      <td>7.649100e+04</td>\n",
       "      <td>3.652700e+04</td>\n",
       "      <td>4.668000e+03</td>\n",
       "      <td>9.000000e+02</td>\n",
       "      <td>6.950000</td>\n",
       "      <td>5.450000</td>\n",
       "      <td>4.350000</td>\n",
       "      <td>636.000000</td>\n",
       "    </tr>\n",
       "    <tr>\n",
       "      <th>50%</th>\n",
       "      <td>2021-09-04 00:00:00</td>\n",
       "      <td>1.082319e+06</td>\n",
       "      <td>7.115200e+05</td>\n",
       "      <td>3.982415e+05</td>\n",
       "      <td>2.530900e+04</td>\n",
       "      <td>7.343000e+03</td>\n",
       "      <td>47.390000</td>\n",
       "      <td>30.160000</td>\n",
       "      <td>24.300000</td>\n",
       "      <td>2050.000000</td>\n",
       "    </tr>\n",
       "    <tr>\n",
       "      <th>75%</th>\n",
       "      <td>2021-12-12 00:00:00</td>\n",
       "      <td>8.265793e+06</td>\n",
       "      <td>4.536991e+06</td>\n",
       "      <td>3.285888e+06</td>\n",
       "      <td>1.234925e+05</td>\n",
       "      <td>4.409800e+04</td>\n",
       "      <td>118.410000</td>\n",
       "      <td>62.920000</td>\n",
       "      <td>57.520000</td>\n",
       "      <td>4682.000000</td>\n",
       "    </tr>\n",
       "    <tr>\n",
       "      <th>max</th>\n",
       "      <td>2022-03-29 00:00:00</td>\n",
       "      <td>3.263129e+09</td>\n",
       "      <td>1.275541e+09</td>\n",
       "      <td>1.240777e+09</td>\n",
       "      <td>2.474100e+07</td>\n",
       "      <td>2.242429e+07</td>\n",
       "      <td>345.370000</td>\n",
       "      <td>124.760000</td>\n",
       "      <td>122.370000</td>\n",
       "      <td>117497.000000</td>\n",
       "    </tr>\n",
       "    <tr>\n",
       "      <th>std</th>\n",
       "      <td>NaN</td>\n",
       "      <td>1.614747e+08</td>\n",
       "      <td>8.243259e+07</td>\n",
       "      <td>7.725045e+07</td>\n",
       "      <td>1.212427e+06</td>\n",
       "      <td>7.682388e+05</td>\n",
       "      <td>65.231748</td>\n",
       "      <td>29.489200</td>\n",
       "      <td>28.027575</td>\n",
       "      <td>3934.312440</td>\n",
       "    </tr>\n",
       "  </tbody>\n",
       "</table>\n",
       "</div>"
      ],
      "text/plain": [
       "                                date  total_vaccinations  people_vaccinated  \\\n",
       "count                          86512        8.651200e+04       8.651200e+04   \n",
       "mean   2021-09-01 17:09:45.907157504        2.589548e+07       1.461117e+07   \n",
       "min              2020-12-02 00:00:00        0.000000e+00       0.000000e+00   \n",
       "25%              2021-05-27 00:00:00        1.181850e+05       7.649100e+04   \n",
       "50%              2021-09-04 00:00:00        1.082319e+06       7.115200e+05   \n",
       "75%              2021-12-12 00:00:00        8.265793e+06       4.536991e+06   \n",
       "max              2022-03-29 00:00:00        3.263129e+09       1.275541e+09   \n",
       "std                              NaN        1.614747e+08       8.243259e+07   \n",
       "\n",
       "       people_fully_vaccinated  daily_vaccinations_raw  daily_vaccinations  \\\n",
       "count             8.651200e+04            3.536200e+04        8.621300e+04   \n",
       "mean              1.223773e+07            2.705996e+05        1.313055e+05   \n",
       "min               1.000000e+00            0.000000e+00        0.000000e+00   \n",
       "25%               3.652700e+04            4.668000e+03        9.000000e+02   \n",
       "50%               3.982415e+05            2.530900e+04        7.343000e+03   \n",
       "75%               3.285888e+06            1.234925e+05        4.409800e+04   \n",
       "max               1.240777e+09            2.474100e+07        2.242429e+07   \n",
       "std               7.725045e+07            1.212427e+06        7.682388e+05   \n",
       "\n",
       "       total_vaccinations_per_hundred  people_vaccinated_per_hundred  \\\n",
       "count                    86481.000000                   85725.000000   \n",
       "mean                        67.139746                      35.194628   \n",
       "min                          0.000000                       0.000000   \n",
       "25%                          6.950000                       5.450000   \n",
       "50%                         47.390000                      30.160000   \n",
       "75%                        118.410000                      62.920000   \n",
       "max                        345.370000                     124.760000   \n",
       "std                         65.231748                      29.489200   \n",
       "\n",
       "       people_fully_vaccinated_per_hundred  daily_vaccinations_per_million  \n",
       "count                         76023.000000                    86213.000000  \n",
       "mean                             31.415665                     3257.049157  \n",
       "min                               0.000000                        0.000000  \n",
       "25%                               4.350000                      636.000000  \n",
       "50%                              24.300000                     2050.000000  \n",
       "75%                              57.520000                     4682.000000  \n",
       "max                             122.370000                   117497.000000  \n",
       "std                              28.027575                     3934.312440  "
      ]
     },
     "execution_count": 6,
     "metadata": {},
     "output_type": "execute_result"
    }
   ],
   "source": [
    "df.describe()"
   ]
  },
  {
   "cell_type": "markdown",
   "metadata": {},
   "source": [
    "Функция describe() в библиотеке Pandas используется для получения статистической сводки по каждому столбцу (признаку) в наборе данных. Эта функция особенно полезна на этапе разведочного анализа данных (EDA), так как позволяет быстро оценить распределение значений и выявить потенциальные аномалии в данных.\n",
    "\n",
    "\n",
    "\n"
   ]
  },
  {
   "cell_type": "markdown",
   "metadata": {},
   "source": [
    "***Визуализация данных:***\n",
    "\n",
    "**Распределение вакцинаций по сранам**"
   ]
  },
  {
   "cell_type": "code",
   "execution_count": 7,
   "metadata": {},
   "outputs": [
    {
     "data": {
      "application/vnd.plotly.v1+json": {
       "config": {
        "plotlyServerURL": "https://plot.ly"
       },
       "data": [
        {
         "colorscale": [
          [
           0,
           "#FFA15A"
          ],
          [
           1,
           "#FFA15A"
          ]
         ],
         "customdata": [
          [
           "Johnson&Johnson",
           394
          ],
          [
           "Johnson&Johnson",
           442
          ],
          [
           "Johnson&Johnson",
           378
          ],
          [
           "Johnson&Johnson",
           456
          ],
          [
           "Johnson&Johnson",
           428
          ],
          [
           "Johnson&Johnson",
           454
          ],
          [
           "Johnson&Johnson",
           391
          ],
          [
           "Johnson&Johnson",
           315
          ],
          [
           "Johnson&Johnson",
           412
          ],
          [
           "Johnson&Johnson",
           362
          ],
          [
           "Johnson&Johnson",
           437
          ],
          [
           "Johnson&Johnson",
           309
          ],
          [
           "Johnson&Johnson",
           351
          ],
          [
           "Johnson&Johnson",
           456
          ],
          [
           "Johnson&Johnson",
           292
          ],
          [
           "Johnson&Johnson",
           413
          ],
          [
           "Johnson&Johnson",
           345
          ],
          [
           "Johnson&Johnson",
           470
          ],
          [
           "Johnson&Johnson",
           404
          ],
          [
           "Johnson&Johnson",
           392
          ],
          [
           "Johnson&Johnson",
           455
          ],
          [
           "Johnson&Johnson",
           417
          ],
          [
           "Johnson&Johnson",
           458
          ],
          [
           "Johnson&Johnson",
           476
          ],
          [
           "Johnson&Johnson",
           338
          ],
          [
           "Johnson&Johnson",
           421
          ],
          [
           "Johnson&Johnson",
           458
          ],
          [
           "Johnson&Johnson",
           356
          ],
          [
           "Johnson&Johnson",
           354
          ],
          [
           "Johnson&Johnson",
           457
          ],
          [
           "Johnson&Johnson",
           420
          ],
          [
           "Johnson&Johnson",
           377
          ],
          [
           "Johnson&Johnson",
           458
          ],
          [
           "Johnson&Johnson",
           457
          ],
          [
           "Johnson&Johnson",
           408
          ],
          [
           "Johnson&Johnson",
           368
          ],
          [
           "Johnson&Johnson",
           251
          ],
          [
           "Johnson&Johnson",
           391
          ],
          [
           "Johnson&Johnson",
           457
          ],
          [
           "Johnson&Johnson",
           455
          ],
          [
           "Johnson&Johnson",
           442
          ],
          [
           "Johnson&Johnson",
           456
          ],
          [
           "Johnson&Johnson",
           458
          ],
          [
           "Johnson&Johnson",
           386
          ],
          [
           "Johnson&Johnson",
           423
          ],
          [
           "Johnson&Johnson",
           381
          ],
          [
           "Johnson&Johnson",
           452
          ],
          [
           "Johnson&Johnson",
           377
          ],
          [
           "Johnson&Johnson",
           480
          ],
          [
           "Johnson&Johnson",
           379
          ],
          [
           "Johnson&Johnson",
           463
          ],
          [
           "Johnson&Johnson",
           458
          ],
          [
           "Johnson&Johnson",
           454
          ],
          [
           "Johnson&Johnson",
           315
          ],
          [
           "Johnson&Johnson",
           362
          ],
          [
           "Johnson&Johnson",
           436
          ],
          [
           "Johnson&Johnson",
           461
          ],
          [
           "Johnson&Johnson",
           390
          ],
          [
           "Johnson&Johnson",
           420
          ],
          [
           "Johnson&Johnson",
           384
          ],
          [
           "Johnson&Johnson",
           373
          ],
          [
           "Johnson&Johnson",
           428
          ],
          [
           "Johnson&Johnson",
           435
          ],
          [
           "Johnson&Johnson",
           390
          ],
          [
           "Johnson&Johnson",
           360
          ],
          [
           "Johnson&Johnson",
           395
          ],
          [
           "Johnson&Johnson",
           457
          ],
          [
           "Johnson&Johnson",
           439
          ],
          [
           "Johnson&Johnson",
           457
          ],
          [
           "Johnson&Johnson",
           376
          ],
          [
           "Johnson&Johnson",
           387
          ],
          [
           "Johnson&Johnson",
           449
          ],
          [
           "Johnson&Johnson",
           458
          ],
          [
           "Johnson&Johnson",
           340
          ],
          [
           "Johnson&Johnson",
           407
          ],
          [
           "Johnson&Johnson",
           397
          ],
          [
           "Johnson&Johnson",
           353
          ],
          [
           "Johnson&Johnson",
           444
          ],
          [
           "Johnson&Johnson",
           363
          ],
          [
           "Johnson&Johnson",
           463
          ],
          [
           "Johnson&Johnson",
           388
          ],
          [
           "Johnson&Johnson",
           228
          ],
          [
           "Johnson&Johnson",
           408
          ],
          [
           "Johnson&Johnson",
           375
          ],
          [
           "Johnson&Johnson",
           371
          ],
          [
           "Johnson&Johnson",
           365
          ],
          [
           "Johnson&Johnson",
           471
          ],
          [
           "Johnson&Johnson",
           312
          ],
          [
           "Johnson&Johnson",
           350
          ]
         ],
         "geo": "geo",
         "hovertemplate": "<b>%{hovertext}</b><br><br>vaccine=%{customdata[0]}<br>country=%{location}<br>count=%{customdata[1]}<extra></extra>",
         "hovertext": [
          "Afghanistan",
          "Austria",
          "Bahamas",
          "Bahrain",
          "Bangladesh",
          "Belgium",
          "Belize",
          "Benin",
          "Bolivia",
          "Botswana",
          "Brazil",
          "British Virgin Islands",
          "Brunei",
          "Bulgaria",
          "Burkina Faso",
          "Cambodia",
          "Cameroon",
          "Canada",
          "Colombia",
          "Cote d'Ivoire",
          "Croatia",
          "Cyprus",
          "Czechia",
          "Denmark",
          "Djibouti",
          "Egypt",
          "Estonia",
          "Eswatini",
          "Ethiopia",
          "France",
          "French Polynesia",
          "Gambia",
          "Germany",
          "Greece",
          "Grenada",
          "Guinea",
          "Haiti",
          "Honduras",
          "Hungary",
          "Iceland",
          "Indonesia",
          "Ireland",
          "Italy",
          "Jamaica",
          "Jordan",
          "Kenya",
          "Kuwait",
          "Laos",
          "Latvia",
          "Lesotho",
          "Liechtenstein",
          "Lithuania",
          "Luxembourg",
          "Madagascar",
          "Malawi",
          "Malta",
          "Mexico",
          "Moldova",
          "Morocco",
          "Mozambique",
          "Namibia",
          "Nepal",
          "Netherlands",
          "Nicaragua",
          "Palestine",
          "Philippines",
          "Poland",
          "Portugal",
          "Romania",
          "Rwanda",
          "Senegal",
          "Slovakia",
          "Slovenia",
          "Somalia",
          "South Africa",
          "South Korea",
          "South Sudan",
          "Spain",
          "Sudan",
          "Switzerland",
          "Syria",
          "Tanzania",
          "Trinidad and Tobago",
          "Tunisia",
          "Uganda",
          "Ukraine",
          "United States",
          "Yemen",
          "Zambia"
         ],
         "locationmode": "country names",
         "locations": [
          "Afghanistan",
          "Austria",
          "Bahamas",
          "Bahrain",
          "Bangladesh",
          "Belgium",
          "Belize",
          "Benin",
          "Bolivia",
          "Botswana",
          "Brazil",
          "British Virgin Islands",
          "Brunei",
          "Bulgaria",
          "Burkina Faso",
          "Cambodia",
          "Cameroon",
          "Canada",
          "Colombia",
          "Cote d'Ivoire",
          "Croatia",
          "Cyprus",
          "Czechia",
          "Denmark",
          "Djibouti",
          "Egypt",
          "Estonia",
          "Eswatini",
          "Ethiopia",
          "France",
          "French Polynesia",
          "Gambia",
          "Germany",
          "Greece",
          "Grenada",
          "Guinea",
          "Haiti",
          "Honduras",
          "Hungary",
          "Iceland",
          "Indonesia",
          "Ireland",
          "Italy",
          "Jamaica",
          "Jordan",
          "Kenya",
          "Kuwait",
          "Laos",
          "Latvia",
          "Lesotho",
          "Liechtenstein",
          "Lithuania",
          "Luxembourg",
          "Madagascar",
          "Malawi",
          "Malta",
          "Mexico",
          "Moldova",
          "Morocco",
          "Mozambique",
          "Namibia",
          "Nepal",
          "Netherlands",
          "Nicaragua",
          "Palestine",
          "Philippines",
          "Poland",
          "Portugal",
          "Romania",
          "Rwanda",
          "Senegal",
          "Slovakia",
          "Slovenia",
          "Somalia",
          "South Africa",
          "South Korea",
          "South Sudan",
          "Spain",
          "Sudan",
          "Switzerland",
          "Syria",
          "Tanzania",
          "Trinidad and Tobago",
          "Tunisia",
          "Uganda",
          "Ukraine",
          "United States",
          "Yemen",
          "Zambia"
         ],
         "name": "Johnson&Johnson",
         "showlegend": true,
         "showscale": false,
         "type": "choropleth",
         "z": [
          1,
          1,
          1,
          1,
          1,
          1,
          1,
          1,
          1,
          1,
          1,
          1,
          1,
          1,
          1,
          1,
          1,
          1,
          1,
          1,
          1,
          1,
          1,
          1,
          1,
          1,
          1,
          1,
          1,
          1,
          1,
          1,
          1,
          1,
          1,
          1,
          1,
          1,
          1,
          1,
          1,
          1,
          1,
          1,
          1,
          1,
          1,
          1,
          1,
          1,
          1,
          1,
          1,
          1,
          1,
          1,
          1,
          1,
          1,
          1,
          1,
          1,
          1,
          1,
          1,
          1,
          1,
          1,
          1,
          1,
          1,
          1,
          1,
          1,
          1,
          1,
          1,
          1,
          1,
          1,
          1,
          1,
          1,
          1,
          1,
          1,
          1,
          1,
          1
         ]
        },
        {
         "colorscale": [
          [
           0,
           "#FECB52"
          ],
          [
           1,
           "#FECB52"
          ]
         ],
         "customdata": [
          [
           "Oxford/AstraZeneca",
           394
          ],
          [
           "Oxford/AstraZeneca",
           439
          ],
          [
           "Oxford/AstraZeneca",
           405
          ],
          [
           "Oxford/AstraZeneca",
           413
          ],
          [
           "Oxford/AstraZeneca",
           390
          ],
          [
           "Oxford/AstraZeneca",
           415
          ],
          [
           "Oxford/AstraZeneca",
           392
          ],
          [
           "Oxford/AstraZeneca",
           456
          ],
          [
           "Oxford/AstraZeneca",
           348
          ],
          [
           "Oxford/AstraZeneca",
           402
          ],
          [
           "Oxford/AstraZeneca",
           442
          ],
          [
           "Oxford/AstraZeneca",
           437
          ],
          [
           "Oxford/AstraZeneca",
           378
          ],
          [
           "Oxford/AstraZeneca",
           456
          ],
          [
           "Oxford/AstraZeneca",
           428
          ],
          [
           "Oxford/AstraZeneca",
           407
          ],
          [
           "Oxford/AstraZeneca",
           454
          ],
          [
           "Oxford/AstraZeneca",
           391
          ],
          [
           "Oxford/AstraZeneca",
           315
          ],
          [
           "Oxford/AstraZeneca",
           440
          ],
          [
           "Oxford/AstraZeneca",
           360
          ],
          [
           "Oxford/AstraZeneca",
           412
          ],
          [
           "Oxford/AstraZeneca",
           353
          ],
          [
           "Oxford/AstraZeneca",
           362
          ],
          [
           "Oxford/AstraZeneca",
           437
          ],
          [
           "Oxford/AstraZeneca",
           309
          ],
          [
           "Oxford/AstraZeneca",
           351
          ],
          [
           "Oxford/AstraZeneca",
           456
          ],
          [
           "Oxford/AstraZeneca",
           292
          ],
          [
           "Oxford/AstraZeneca",
           413
          ],
          [
           "Oxford/AstraZeneca",
           345
          ],
          [
           "Oxford/AstraZeneca",
           470
          ],
          [
           "Oxford/AstraZeneca",
           374
          ],
          [
           "Oxford/AstraZeneca",
           455
          ],
          [
           "Oxford/AstraZeneca",
           318
          ],
          [
           "Oxford/AstraZeneca",
           454
          ],
          [
           "Oxford/AstraZeneca",
           404
          ],
          [
           "Oxford/AstraZeneca",
           335
          ],
          [
           "Oxford/AstraZeneca",
           344
          ],
          [
           "Oxford/AstraZeneca",
           460
          ],
          [
           "Oxford/AstraZeneca",
           392
          ],
          [
           "Oxford/AstraZeneca",
           455
          ],
          [
           "Oxford/AstraZeneca",
           417
          ],
          [
           "Oxford/AstraZeneca",
           458
          ],
          [
           "Oxford/AstraZeneca",
           341
          ],
          [
           "Oxford/AstraZeneca",
           338
          ],
          [
           "Oxford/AstraZeneca",
           408
          ],
          [
           "Oxford/AstraZeneca",
           408
          ],
          [
           "Oxford/AstraZeneca",
           431
          ],
          [
           "Oxford/AstraZeneca",
           421
          ],
          [
           "Oxford/AstraZeneca",
           401
          ],
          [
           "Oxford/AstraZeneca",
           443
          ],
          [
           "Oxford/AstraZeneca",
           458
          ],
          [
           "Oxford/AstraZeneca",
           356
          ],
          [
           "Oxford/AstraZeneca",
           354
          ],
          [
           "Oxford/AstraZeneca",
           67
          ],
          [
           "Oxford/AstraZeneca",
           377
          ],
          [
           "Oxford/AstraZeneca",
           451
          ],
          [
           "Oxford/AstraZeneca",
           457
          ],
          [
           "Oxford/AstraZeneca",
           377
          ],
          [
           "Oxford/AstraZeneca",
           381
          ],
          [
           "Oxford/AstraZeneca",
           458
          ],
          [
           "Oxford/AstraZeneca",
           365
          ],
          [
           "Oxford/AstraZeneca",
           439
          ],
          [
           "Oxford/AstraZeneca",
           457
          ],
          [
           "Oxford/AstraZeneca",
           408
          ],
          [
           "Oxford/AstraZeneca",
           394
          ],
          [
           "Oxford/AstraZeneca",
           424
          ],
          [
           "Oxford/AstraZeneca",
           368
          ],
          [
           "Oxford/AstraZeneca",
           319
          ],
          [
           "Oxford/AstraZeneca",
           408
          ],
          [
           "Oxford/AstraZeneca",
           391
          ],
          [
           "Oxford/AstraZeneca",
           457
          ],
          [
           "Oxford/AstraZeneca",
           455
          ],
          [
           "Oxford/AstraZeneca",
           439
          ],
          [
           "Oxford/AstraZeneca",
           442
          ],
          [
           "Oxford/AstraZeneca",
           415
          ],
          [
           "Oxford/AstraZeneca",
           388
          ],
          [
           "Oxford/AstraZeneca",
           456
          ],
          [
           "Oxford/AstraZeneca",
           433
          ],
          [
           "Oxford/AstraZeneca",
           458
          ],
          [
           "Oxford/AstraZeneca",
           386
          ],
          [
           "Oxford/AstraZeneca",
           406
          ],
          [
           "Oxford/AstraZeneca",
           372
          ],
          [
           "Oxford/AstraZeneca",
           423
          ],
          [
           "Oxford/AstraZeneca",
           381
          ],
          [
           "Oxford/AstraZeneca",
           294
          ],
          [
           "Oxford/AstraZeneca",
           367
          ],
          [
           "Oxford/AstraZeneca",
           452
          ],
          [
           "Oxford/AstraZeneca",
           377
          ],
          [
           "Oxford/AstraZeneca",
           410
          ],
          [
           "Oxford/AstraZeneca",
           379
          ],
          [
           "Oxford/AstraZeneca",
           318
          ],
          [
           "Oxford/AstraZeneca",
           342
          ],
          [
           "Oxford/AstraZeneca",
           458
          ],
          [
           "Oxford/AstraZeneca",
           454
          ],
          [
           "Oxford/AstraZeneca",
           315
          ],
          [
           "Oxford/AstraZeneca",
           362
          ],
          [
           "Oxford/AstraZeneca",
           399
          ],
          [
           "Oxford/AstraZeneca",
           404
          ],
          [
           "Oxford/AstraZeneca",
           361
          ],
          [
           "Oxford/AstraZeneca",
           436
          ],
          [
           "Oxford/AstraZeneca",
           362
          ],
          [
           "Oxford/AstraZeneca",
           413
          ],
          [
           "Oxford/AstraZeneca",
           461
          ],
          [
           "Oxford/AstraZeneca",
           390
          ],
          [
           "Oxford/AstraZeneca",
           401
          ],
          [
           "Oxford/AstraZeneca",
           403
          ],
          [
           "Oxford/AstraZeneca",
           411
          ],
          [
           "Oxford/AstraZeneca",
           420
          ],
          [
           "Oxford/AstraZeneca",
           384
          ],
          [
           "Oxford/AstraZeneca",
           425
          ],
          [
           "Oxford/AstraZeneca",
           373
          ],
          [
           "Oxford/AstraZeneca",
           348
          ],
          [
           "Oxford/AstraZeneca",
           428
          ],
          [
           "Oxford/AstraZeneca",
           435
          ],
          [
           "Oxford/AstraZeneca",
           409
          ],
          [
           "Oxford/AstraZeneca",
           390
          ],
          [
           "Oxford/AstraZeneca",
           362
          ],
          [
           "Oxford/AstraZeneca",
           389
          ],
          [
           "Oxford/AstraZeneca",
           398
          ],
          [
           "Oxford/AstraZeneca",
           317
          ],
          [
           "Oxford/AstraZeneca",
           443
          ],
          [
           "Oxford/AstraZeneca",
           450
          ],
          [
           "Oxford/AstraZeneca",
           402
          ],
          [
           "Oxford/AstraZeneca",
           360
          ],
          [
           "Oxford/AstraZeneca",
           430
          ],
          [
           "Oxford/AstraZeneca",
           364
          ],
          [
           "Oxford/AstraZeneca",
           397
          ],
          [
           "Oxford/AstraZeneca",
           412
          ],
          [
           "Oxford/AstraZeneca",
           395
          ],
          [
           "Oxford/AstraZeneca",
           85
          ],
          [
           "Oxford/AstraZeneca",
           457
          ],
          [
           "Oxford/AstraZeneca",
           439
          ],
          [
           "Oxford/AstraZeneca",
           457
          ],
          [
           "Oxford/AstraZeneca",
           376
          ],
          [
           "Oxford/AstraZeneca",
           92
          ],
          [
           "Oxford/AstraZeneca",
           369
          ],
          [
           "Oxford/AstraZeneca",
           403
          ],
          [
           "Oxford/AstraZeneca",
           373
          ],
          [
           "Oxford/AstraZeneca",
           322
          ],
          [
           "Oxford/AstraZeneca",
           361
          ],
          [
           "Oxford/AstraZeneca",
           442
          ],
          [
           "Oxford/AstraZeneca",
           443
          ],
          [
           "Oxford/AstraZeneca",
           387
          ],
          [
           "Oxford/AstraZeneca",
           439
          ],
          [
           "Oxford/AstraZeneca",
           434
          ],
          [
           "Oxford/AstraZeneca",
           367
          ],
          [
           "Oxford/AstraZeneca",
           323
          ],
          [
           "Oxford/AstraZeneca",
           449
          ],
          [
           "Oxford/AstraZeneca",
           458
          ],
          [
           "Oxford/AstraZeneca",
           371
          ],
          [
           "Oxford/AstraZeneca",
           340
          ],
          [
           "Oxford/AstraZeneca",
           397
          ],
          [
           "Oxford/AstraZeneca",
           353
          ],
          [
           "Oxford/AstraZeneca",
           444
          ],
          [
           "Oxford/AstraZeneca",
           419
          ],
          [
           "Oxford/AstraZeneca",
           363
          ],
          [
           "Oxford/AstraZeneca",
           399
          ],
          [
           "Oxford/AstraZeneca",
           447
          ],
          [
           "Oxford/AstraZeneca",
           388
          ],
          [
           "Oxford/AstraZeneca",
           374
          ],
          [
           "Oxford/AstraZeneca",
           311
          ],
          [
           "Oxford/AstraZeneca",
           396
          ],
          [
           "Oxford/AstraZeneca",
           343
          ],
          [
           "Oxford/AstraZeneca",
           368
          ],
          [
           "Oxford/AstraZeneca",
           315
          ],
          [
           "Oxford/AstraZeneca",
           408
          ],
          [
           "Oxford/AstraZeneca",
           375
          ],
          [
           "Oxford/AstraZeneca",
           190
          ],
          [
           "Oxford/AstraZeneca",
           179
          ],
          [
           "Oxford/AstraZeneca",
           371
          ],
          [
           "Oxford/AstraZeneca",
           365
          ],
          [
           "Oxford/AstraZeneca",
           449
          ],
          [
           "Oxford/AstraZeneca",
           443
          ],
          [
           "Oxford/AstraZeneca",
           396
          ],
          [
           "Oxford/AstraZeneca",
           348
          ],
          [
           "Oxford/AstraZeneca",
           273
          ],
          [
           "Oxford/AstraZeneca",
           381
          ],
          [
           "Oxford/AstraZeneca",
           443
          ],
          [
           "Oxford/AstraZeneca",
           312
          ],
          [
           "Oxford/AstraZeneca",
           350
          ],
          [
           "Oxford/AstraZeneca",
           405
          ]
         ],
         "geo": "geo",
         "hovertemplate": "<b>%{hovertext}</b><br><br>vaccine=%{customdata[0]}<br>country=%{location}<br>count=%{customdata[1]}<extra></extra>",
         "hovertext": [
          "Afghanistan",
          "Albania",
          "Algeria",
          "Andorra",
          "Angola",
          "Anguilla",
          "Antigua and Barbuda",
          "Argentina",
          "Armenia",
          "Australia",
          "Austria",
          "Azerbaijan",
          "Bahamas",
          "Bahrain",
          "Bangladesh",
          "Barbados",
          "Belgium",
          "Belize",
          "Benin",
          "Bermuda",
          "Bhutan",
          "Bolivia",
          "Bosnia and Herzegovina",
          "Botswana",
          "Brazil",
          "British Virgin Islands",
          "Brunei",
          "Bulgaria",
          "Burkina Faso",
          "Cambodia",
          "Cameroon",
          "Canada",
          "Cape Verde",
          "Cayman Islands",
          "Central African Republic",
          "Chile",
          "Colombia",
          "Comoros",
          "Congo",
          "Costa Rica",
          "Cote d'Ivoire",
          "Croatia",
          "Cyprus",
          "Czechia",
          "Democratic Republic of Congo",
          "Djibouti",
          "Dominica",
          "Dominican Republic",
          "Ecuador",
          "Egypt",
          "El Salvador",
          "England",
          "Estonia",
          "Eswatini",
          "Ethiopia",
          "Falkland Islands",
          "Fiji",
          "Finland",
          "France",
          "Gambia",
          "Georgia",
          "Germany",
          "Ghana",
          "Gibraltar",
          "Greece",
          "Grenada",
          "Guatemala",
          "Guernsey",
          "Guinea",
          "Guinea-Bissau",
          "Guyana",
          "Honduras",
          "Hungary",
          "Iceland",
          "India",
          "Indonesia",
          "Iran",
          "Iraq",
          "Ireland",
          "Isle of Man",
          "Italy",
          "Jamaica",
          "Japan",
          "Jersey",
          "Jordan",
          "Kenya",
          "Kiribati",
          "Kosovo",
          "Kuwait",
          "Laos",
          "Lebanon",
          "Lesotho",
          "Liberia",
          "Libya",
          "Lithuania",
          "Luxembourg",
          "Madagascar",
          "Malawi",
          "Malaysia",
          "Maldives",
          "Mali",
          "Malta",
          "Mauritania",
          "Mauritius",
          "Mexico",
          "Moldova",
          "Mongolia",
          "Montenegro",
          "Montserrat",
          "Morocco",
          "Mozambique",
          "Myanmar",
          "Namibia",
          "Nauru",
          "Nepal",
          "Netherlands",
          "New Zealand",
          "Nicaragua",
          "Niger",
          "Nigeria",
          "North Macedonia",
          "Northern Cyprus",
          "Northern Ireland",
          "Oman",
          "Pakistan",
          "Palestine",
          "Panama",
          "Papua New Guinea",
          "Paraguay",
          "Peru",
          "Philippines",
          "Pitcairn",
          "Poland",
          "Portugal",
          "Romania",
          "Rwanda",
          "Saint Helena",
          "Saint Kitts and Nevis",
          "Saint Lucia",
          "Saint Vincent and the Grenadines",
          "Samoa",
          "Sao Tome and Principe",
          "Saudi Arabia",
          "Scotland",
          "Senegal",
          "Serbia",
          "Seychelles",
          "Sierra Leone",
          "Sint Maarten (Dutch part)",
          "Slovakia",
          "Slovenia",
          "Solomon Islands",
          "Somalia",
          "South Korea",
          "South Sudan",
          "Spain",
          "Sri Lanka",
          "Sudan",
          "Suriname",
          "Sweden",
          "Syria",
          "Taiwan",
          "Tajikistan",
          "Thailand",
          "Timor",
          "Togo",
          "Tonga",
          "Trinidad and Tobago",
          "Tunisia",
          "Turkmenistan",
          "Tuvalu",
          "Uganda",
          "Ukraine",
          "United Arab Emirates",
          "United Kingdom",
          "Uruguay",
          "Uzbekistan",
          "Vanuatu",
          "Vietnam",
          "Wales",
          "Yemen",
          "Zambia",
          "Zimbabwe"
         ],
         "locationmode": "country names",
         "locations": [
          "Afghanistan",
          "Albania",
          "Algeria",
          "Andorra",
          "Angola",
          "Anguilla",
          "Antigua and Barbuda",
          "Argentina",
          "Armenia",
          "Australia",
          "Austria",
          "Azerbaijan",
          "Bahamas",
          "Bahrain",
          "Bangladesh",
          "Barbados",
          "Belgium",
          "Belize",
          "Benin",
          "Bermuda",
          "Bhutan",
          "Bolivia",
          "Bosnia and Herzegovina",
          "Botswana",
          "Brazil",
          "British Virgin Islands",
          "Brunei",
          "Bulgaria",
          "Burkina Faso",
          "Cambodia",
          "Cameroon",
          "Canada",
          "Cape Verde",
          "Cayman Islands",
          "Central African Republic",
          "Chile",
          "Colombia",
          "Comoros",
          "Congo",
          "Costa Rica",
          "Cote d'Ivoire",
          "Croatia",
          "Cyprus",
          "Czechia",
          "Democratic Republic of Congo",
          "Djibouti",
          "Dominica",
          "Dominican Republic",
          "Ecuador",
          "Egypt",
          "El Salvador",
          "England",
          "Estonia",
          "Eswatini",
          "Ethiopia",
          "Falkland Islands",
          "Fiji",
          "Finland",
          "France",
          "Gambia",
          "Georgia",
          "Germany",
          "Ghana",
          "Gibraltar",
          "Greece",
          "Grenada",
          "Guatemala",
          "Guernsey",
          "Guinea",
          "Guinea-Bissau",
          "Guyana",
          "Honduras",
          "Hungary",
          "Iceland",
          "India",
          "Indonesia",
          "Iran",
          "Iraq",
          "Ireland",
          "Isle of Man",
          "Italy",
          "Jamaica",
          "Japan",
          "Jersey",
          "Jordan",
          "Kenya",
          "Kiribati",
          "Kosovo",
          "Kuwait",
          "Laos",
          "Lebanon",
          "Lesotho",
          "Liberia",
          "Libya",
          "Lithuania",
          "Luxembourg",
          "Madagascar",
          "Malawi",
          "Malaysia",
          "Maldives",
          "Mali",
          "Malta",
          "Mauritania",
          "Mauritius",
          "Mexico",
          "Moldova",
          "Mongolia",
          "Montenegro",
          "Montserrat",
          "Morocco",
          "Mozambique",
          "Myanmar",
          "Namibia",
          "Nauru",
          "Nepal",
          "Netherlands",
          "New Zealand",
          "Nicaragua",
          "Niger",
          "Nigeria",
          "North Macedonia",
          "Northern Cyprus",
          "Northern Ireland",
          "Oman",
          "Pakistan",
          "Palestine",
          "Panama",
          "Papua New Guinea",
          "Paraguay",
          "Peru",
          "Philippines",
          "Pitcairn",
          "Poland",
          "Portugal",
          "Romania",
          "Rwanda",
          "Saint Helena",
          "Saint Kitts and Nevis",
          "Saint Lucia",
          "Saint Vincent and the Grenadines",
          "Samoa",
          "Sao Tome and Principe",
          "Saudi Arabia",
          "Scotland",
          "Senegal",
          "Serbia",
          "Seychelles",
          "Sierra Leone",
          "Sint Maarten (Dutch part)",
          "Slovakia",
          "Slovenia",
          "Solomon Islands",
          "Somalia",
          "South Korea",
          "South Sudan",
          "Spain",
          "Sri Lanka",
          "Sudan",
          "Suriname",
          "Sweden",
          "Syria",
          "Taiwan",
          "Tajikistan",
          "Thailand",
          "Timor",
          "Togo",
          "Tonga",
          "Trinidad and Tobago",
          "Tunisia",
          "Turkmenistan",
          "Tuvalu",
          "Uganda",
          "Ukraine",
          "United Arab Emirates",
          "United Kingdom",
          "Uruguay",
          "Uzbekistan",
          "Vanuatu",
          "Vietnam",
          "Wales",
          "Yemen",
          "Zambia",
          "Zimbabwe"
         ],
         "name": "Oxford/AstraZeneca",
         "showlegend": true,
         "showscale": false,
         "type": "choropleth",
         "z": [
          1,
          1,
          1,
          1,
          1,
          1,
          1,
          1,
          1,
          1,
          1,
          1,
          1,
          1,
          1,
          1,
          1,
          1,
          1,
          1,
          1,
          1,
          1,
          1,
          1,
          1,
          1,
          1,
          1,
          1,
          1,
          1,
          1,
          1,
          1,
          1,
          1,
          1,
          1,
          1,
          1,
          1,
          1,
          1,
          1,
          1,
          1,
          1,
          1,
          1,
          1,
          1,
          1,
          1,
          1,
          1,
          1,
          1,
          1,
          1,
          1,
          1,
          1,
          1,
          1,
          1,
          1,
          1,
          1,
          1,
          1,
          1,
          1,
          1,
          1,
          1,
          1,
          1,
          1,
          1,
          1,
          1,
          1,
          1,
          1,
          1,
          1,
          1,
          1,
          1,
          1,
          1,
          1,
          1,
          1,
          1,
          1,
          1,
          1,
          1,
          1,
          1,
          1,
          1,
          1,
          1,
          1,
          1,
          1,
          1,
          1,
          1,
          1,
          1,
          1,
          1,
          1,
          1,
          1,
          1,
          1,
          1,
          1,
          1,
          1,
          1,
          1,
          1,
          1,
          1,
          1,
          1,
          1,
          1,
          1,
          1,
          1,
          1,
          1,
          1,
          1,
          1,
          1,
          1,
          1,
          1,
          1,
          1,
          1,
          1,
          1,
          1,
          1,
          1,
          1,
          1,
          1,
          1,
          1,
          1,
          1,
          1,
          1,
          1,
          1,
          1,
          1,
          1,
          1,
          1,
          1,
          1,
          1,
          1,
          1,
          1,
          1,
          1,
          1,
          1,
          1,
          1,
          1
         ]
        },
        {
         "colorscale": [
          [
           0,
           "#EF553B"
          ],
          [
           1,
           "#EF553B"
          ]
         ],
         "customdata": [
          [
           "Pfizer/BioNTech",
           394
          ],
          [
           "Pfizer/BioNTech",
           439
          ],
          [
           "Pfizer/BioNTech",
           413
          ],
          [
           "Pfizer/BioNTech",
           415
          ],
          [
           "Pfizer/BioNTech",
           392
          ],
          [
           "Pfizer/BioNTech",
           456
          ],
          [
           "Pfizer/BioNTech",
           366
          ],
          [
           "Pfizer/BioNTech",
           402
          ],
          [
           "Pfizer/BioNTech",
           442
          ],
          [
           "Pfizer/BioNTech",
           437
          ],
          [
           "Pfizer/BioNTech",
           378
          ],
          [
           "Pfizer/BioNTech",
           456
          ],
          [
           "Pfizer/BioNTech",
           428
          ],
          [
           "Pfizer/BioNTech",
           407
          ],
          [
           "Pfizer/BioNTech",
           454
          ],
          [
           "Pfizer/BioNTech",
           391
          ],
          [
           "Pfizer/BioNTech",
           315
          ],
          [
           "Pfizer/BioNTech",
           440
          ],
          [
           "Pfizer/BioNTech",
           360
          ],
          [
           "Pfizer/BioNTech",
           412
          ],
          [
           "Pfizer/BioNTech",
           146
          ],
          [
           "Pfizer/BioNTech",
           353
          ],
          [
           "Pfizer/BioNTech",
           362
          ],
          [
           "Pfizer/BioNTech",
           437
          ],
          [
           "Pfizer/BioNTech",
           351
          ],
          [
           "Pfizer/BioNTech",
           456
          ],
          [
           "Pfizer/BioNTech",
           345
          ],
          [
           "Pfizer/BioNTech",
           470
          ],
          [
           "Pfizer/BioNTech",
           374
          ],
          [
           "Pfizer/BioNTech",
           455
          ],
          [
           "Pfizer/BioNTech",
           454
          ],
          [
           "Pfizer/BioNTech",
           404
          ],
          [
           "Pfizer/BioNTech",
           308
          ],
          [
           "Pfizer/BioNTech",
           460
          ],
          [
           "Pfizer/BioNTech",
           392
          ],
          [
           "Pfizer/BioNTech",
           455
          ],
          [
           "Pfizer/BioNTech",
           366
          ],
          [
           "Pfizer/BioNTech",
           417
          ],
          [
           "Pfizer/BioNTech",
           458
          ],
          [
           "Pfizer/BioNTech",
           476
          ],
          [
           "Pfizer/BioNTech",
           338
          ],
          [
           "Pfizer/BioNTech",
           408
          ],
          [
           "Pfizer/BioNTech",
           408
          ],
          [
           "Pfizer/BioNTech",
           431
          ],
          [
           "Pfizer/BioNTech",
           421
          ],
          [
           "Pfizer/BioNTech",
           401
          ],
          [
           "Pfizer/BioNTech",
           443
          ],
          [
           "Pfizer/BioNTech",
           458
          ],
          [
           "Pfizer/BioNTech",
           356
          ],
          [
           "Pfizer/BioNTech",
           386
          ],
          [
           "Pfizer/BioNTech",
           377
          ],
          [
           "Pfizer/BioNTech",
           451
          ],
          [
           "Pfizer/BioNTech",
           457
          ],
          [
           "Pfizer/BioNTech",
           420
          ],
          [
           "Pfizer/BioNTech",
           362
          ],
          [
           "Pfizer/BioNTech",
           381
          ],
          [
           "Pfizer/BioNTech",
           458
          ],
          [
           "Pfizer/BioNTech",
           439
          ],
          [
           "Pfizer/BioNTech",
           457
          ],
          [
           "Pfizer/BioNTech",
           408
          ],
          [
           "Pfizer/BioNTech",
           394
          ],
          [
           "Pfizer/BioNTech",
           424
          ],
          [
           "Pfizer/BioNTech",
           368
          ],
          [
           "Pfizer/BioNTech",
           408
          ],
          [
           "Pfizer/BioNTech",
           391
          ],
          [
           "Pfizer/BioNTech",
           399
          ],
          [
           "Pfizer/BioNTech",
           457
          ],
          [
           "Pfizer/BioNTech",
           455
          ],
          [
           "Pfizer/BioNTech",
           442
          ],
          [
           "Pfizer/BioNTech",
           388
          ],
          [
           "Pfizer/BioNTech",
           456
          ],
          [
           "Pfizer/BioNTech",
           433
          ],
          [
           "Pfizer/BioNTech",
           466
          ],
          [
           "Pfizer/BioNTech",
           458
          ],
          [
           "Pfizer/BioNTech",
           386
          ],
          [
           "Pfizer/BioNTech",
           406
          ],
          [
           "Pfizer/BioNTech",
           372
          ],
          [
           "Pfizer/BioNTech",
           423
          ],
          [
           "Pfizer/BioNTech",
           381
          ],
          [
           "Pfizer/BioNTech",
           367
          ],
          [
           "Pfizer/BioNTech",
           452
          ],
          [
           "Pfizer/BioNTech",
           377
          ],
          [
           "Pfizer/BioNTech",
           480
          ],
          [
           "Pfizer/BioNTech",
           410
          ],
          [
           "Pfizer/BioNTech",
           342
          ],
          [
           "Pfizer/BioNTech",
           463
          ],
          [
           "Pfizer/BioNTech",
           458
          ],
          [
           "Pfizer/BioNTech",
           454
          ],
          [
           "Pfizer/BioNTech",
           414
          ],
          [
           "Pfizer/BioNTech",
           399
          ],
          [
           "Pfizer/BioNTech",
           404
          ],
          [
           "Pfizer/BioNTech",
           436
          ],
          [
           "Pfizer/BioNTech",
           461
          ],
          [
           "Pfizer/BioNTech",
           390
          ],
          [
           "Pfizer/BioNTech",
           357
          ],
          [
           "Pfizer/BioNTech",
           401
          ],
          [
           "Pfizer/BioNTech",
           403
          ],
          [
           "Pfizer/BioNTech",
           420
          ],
          [
           "Pfizer/BioNTech",
           373
          ],
          [
           "Pfizer/BioNTech",
           428
          ],
          [
           "Pfizer/BioNTech",
           435
          ],
          [
           "Pfizer/BioNTech",
           420
          ],
          [
           "Pfizer/BioNTech",
           409
          ],
          [
           "Pfizer/BioNTech",
           390
          ],
          [
           "Pfizer/BioNTech",
           266
          ],
          [
           "Pfizer/BioNTech",
           398
          ],
          [
           "Pfizer/BioNTech",
           317
          ],
          [
           "Pfizer/BioNTech",
           443
          ],
          [
           "Pfizer/BioNTech",
           482
          ],
          [
           "Pfizer/BioNTech",
           450
          ],
          [
           "Pfizer/BioNTech",
           402
          ],
          [
           "Pfizer/BioNTech",
           360
          ],
          [
           "Pfizer/BioNTech",
           430
          ],
          [
           "Pfizer/BioNTech",
           397
          ],
          [
           "Pfizer/BioNTech",
           412
          ],
          [
           "Pfizer/BioNTech",
           395
          ],
          [
           "Pfizer/BioNTech",
           457
          ],
          [
           "Pfizer/BioNTech",
           439
          ],
          [
           "Pfizer/BioNTech",
           463
          ],
          [
           "Pfizer/BioNTech",
           457
          ],
          [
           "Pfizer/BioNTech",
           376
          ],
          [
           "Pfizer/BioNTech",
           369
          ],
          [
           "Pfizer/BioNTech",
           403
          ],
          [
           "Pfizer/BioNTech",
           387
          ],
          [
           "Pfizer/BioNTech",
           442
          ],
          [
           "Pfizer/BioNTech",
           443
          ],
          [
           "Pfizer/BioNTech",
           439
          ],
          [
           "Pfizer/BioNTech",
           454
          ],
          [
           "Pfizer/BioNTech",
           323
          ],
          [
           "Pfizer/BioNTech",
           449
          ],
          [
           "Pfizer/BioNTech",
           458
          ],
          [
           "Pfizer/BioNTech",
           407
          ],
          [
           "Pfizer/BioNTech",
           397
          ],
          [
           "Pfizer/BioNTech",
           444
          ],
          [
           "Pfizer/BioNTech",
           419
          ],
          [
           "Pfizer/BioNTech",
           363
          ],
          [
           "Pfizer/BioNTech",
           399
          ],
          [
           "Pfizer/BioNTech",
           447
          ],
          [
           "Pfizer/BioNTech",
           463
          ],
          [
           "Pfizer/BioNTech",
           374
          ],
          [
           "Pfizer/BioNTech",
           311
          ],
          [
           "Pfizer/BioNTech",
           228
          ],
          [
           "Pfizer/BioNTech",
           396
          ],
          [
           "Pfizer/BioNTech",
           343
          ],
          [
           "Pfizer/BioNTech",
           114
          ],
          [
           "Pfizer/BioNTech",
           408
          ],
          [
           "Pfizer/BioNTech",
           375
          ],
          [
           "Pfizer/BioNTech",
           441
          ],
          [
           "Pfizer/BioNTech",
           440
          ],
          [
           "Pfizer/BioNTech",
           371
          ],
          [
           "Pfizer/BioNTech",
           365
          ],
          [
           "Pfizer/BioNTech",
           449
          ],
          [
           "Pfizer/BioNTech",
           443
          ],
          [
           "Pfizer/BioNTech",
           471
          ],
          [
           "Pfizer/BioNTech",
           396
          ],
          [
           "Pfizer/BioNTech",
           348
          ],
          [
           "Pfizer/BioNTech",
           381
          ],
          [
           "Pfizer/BioNTech",
           443
          ]
         ],
         "geo": "geo",
         "hovertemplate": "<b>%{hovertext}</b><br><br>vaccine=%{customdata[0]}<br>country=%{location}<br>count=%{customdata[1]}<extra></extra>",
         "hovertext": [
          "Afghanistan",
          "Albania",
          "Andorra",
          "Anguilla",
          "Antigua and Barbuda",
          "Argentina",
          "Aruba",
          "Australia",
          "Austria",
          "Azerbaijan",
          "Bahamas",
          "Bahrain",
          "Bangladesh",
          "Barbados",
          "Belgium",
          "Belize",
          "Benin",
          "Bermuda",
          "Bhutan",
          "Bolivia",
          "Bonaire Sint Eustatius and Saba",
          "Bosnia and Herzegovina",
          "Botswana",
          "Brazil",
          "Brunei",
          "Bulgaria",
          "Cameroon",
          "Canada",
          "Cape Verde",
          "Cayman Islands",
          "Chile",
          "Colombia",
          "Cook Islands",
          "Costa Rica",
          "Cote d'Ivoire",
          "Croatia",
          "Curacao",
          "Cyprus",
          "Czechia",
          "Denmark",
          "Djibouti",
          "Dominica",
          "Dominican Republic",
          "Ecuador",
          "Egypt",
          "El Salvador",
          "England",
          "Estonia",
          "Eswatini",
          "Faeroe Islands",
          "Fiji",
          "Finland",
          "France",
          "French Polynesia",
          "Gabon",
          "Georgia",
          "Germany",
          "Gibraltar",
          "Greece",
          "Grenada",
          "Guatemala",
          "Guernsey",
          "Guinea",
          "Guyana",
          "Honduras",
          "Hong Kong",
          "Hungary",
          "Iceland",
          "Indonesia",
          "Iraq",
          "Ireland",
          "Isle of Man",
          "Israel",
          "Italy",
          "Jamaica",
          "Japan",
          "Jersey",
          "Jordan",
          "Kenya",
          "Kosovo",
          "Kuwait",
          "Laos",
          "Latvia",
          "Lebanon",
          "Libya",
          "Liechtenstein",
          "Lithuania",
          "Luxembourg",
          "Macao",
          "Malaysia",
          "Maldives",
          "Malta",
          "Mexico",
          "Moldova",
          "Monaco",
          "Mongolia",
          "Montenegro",
          "Morocco",
          "Namibia",
          "Nepal",
          "Netherlands",
          "New Caledonia",
          "New Zealand",
          "Nicaragua",
          "Niue",
          "North Macedonia",
          "Northern Cyprus",
          "Northern Ireland",
          "Norway",
          "Oman",
          "Pakistan",
          "Palestine",
          "Panama",
          "Paraguay",
          "Peru",
          "Philippines",
          "Poland",
          "Portugal",
          "Qatar",
          "Romania",
          "Rwanda",
          "Saint Kitts and Nevis",
          "Saint Lucia",
          "San Marino",
          "Saudi Arabia",
          "Scotland",
          "Serbia",
          "Singapore",
          "Sint Maarten (Dutch part)",
          "Slovakia",
          "Slovenia",
          "South Africa",
          "South Korea",
          "Spain",
          "Sri Lanka",
          "Sudan",
          "Suriname",
          "Sweden",
          "Switzerland",
          "Taiwan",
          "Tajikistan",
          "Tanzania",
          "Thailand",
          "Timor",
          "Tokelau",
          "Trinidad and Tobago",
          "Tunisia",
          "Turkey",
          "Turks and Caicos Islands",
          "Uganda",
          "Ukraine",
          "United Arab Emirates",
          "United Kingdom",
          "United States",
          "Uruguay",
          "Uzbekistan",
          "Vietnam",
          "Wales"
         ],
         "locationmode": "country names",
         "locations": [
          "Afghanistan",
          "Albania",
          "Andorra",
          "Anguilla",
          "Antigua and Barbuda",
          "Argentina",
          "Aruba",
          "Australia",
          "Austria",
          "Azerbaijan",
          "Bahamas",
          "Bahrain",
          "Bangladesh",
          "Barbados",
          "Belgium",
          "Belize",
          "Benin",
          "Bermuda",
          "Bhutan",
          "Bolivia",
          "Bonaire Sint Eustatius and Saba",
          "Bosnia and Herzegovina",
          "Botswana",
          "Brazil",
          "Brunei",
          "Bulgaria",
          "Cameroon",
          "Canada",
          "Cape Verde",
          "Cayman Islands",
          "Chile",
          "Colombia",
          "Cook Islands",
          "Costa Rica",
          "Cote d'Ivoire",
          "Croatia",
          "Curacao",
          "Cyprus",
          "Czechia",
          "Denmark",
          "Djibouti",
          "Dominica",
          "Dominican Republic",
          "Ecuador",
          "Egypt",
          "El Salvador",
          "England",
          "Estonia",
          "Eswatini",
          "Faeroe Islands",
          "Fiji",
          "Finland",
          "France",
          "French Polynesia",
          "Gabon",
          "Georgia",
          "Germany",
          "Gibraltar",
          "Greece",
          "Grenada",
          "Guatemala",
          "Guernsey",
          "Guinea",
          "Guyana",
          "Honduras",
          "Hong Kong",
          "Hungary",
          "Iceland",
          "Indonesia",
          "Iraq",
          "Ireland",
          "Isle of Man",
          "Israel",
          "Italy",
          "Jamaica",
          "Japan",
          "Jersey",
          "Jordan",
          "Kenya",
          "Kosovo",
          "Kuwait",
          "Laos",
          "Latvia",
          "Lebanon",
          "Libya",
          "Liechtenstein",
          "Lithuania",
          "Luxembourg",
          "Macao",
          "Malaysia",
          "Maldives",
          "Malta",
          "Mexico",
          "Moldova",
          "Monaco",
          "Mongolia",
          "Montenegro",
          "Morocco",
          "Namibia",
          "Nepal",
          "Netherlands",
          "New Caledonia",
          "New Zealand",
          "Nicaragua",
          "Niue",
          "North Macedonia",
          "Northern Cyprus",
          "Northern Ireland",
          "Norway",
          "Oman",
          "Pakistan",
          "Palestine",
          "Panama",
          "Paraguay",
          "Peru",
          "Philippines",
          "Poland",
          "Portugal",
          "Qatar",
          "Romania",
          "Rwanda",
          "Saint Kitts and Nevis",
          "Saint Lucia",
          "San Marino",
          "Saudi Arabia",
          "Scotland",
          "Serbia",
          "Singapore",
          "Sint Maarten (Dutch part)",
          "Slovakia",
          "Slovenia",
          "South Africa",
          "South Korea",
          "Spain",
          "Sri Lanka",
          "Sudan",
          "Suriname",
          "Sweden",
          "Switzerland",
          "Taiwan",
          "Tajikistan",
          "Tanzania",
          "Thailand",
          "Timor",
          "Tokelau",
          "Trinidad and Tobago",
          "Tunisia",
          "Turkey",
          "Turks and Caicos Islands",
          "Uganda",
          "Ukraine",
          "United Arab Emirates",
          "United Kingdom",
          "United States",
          "Uruguay",
          "Uzbekistan",
          "Vietnam",
          "Wales"
         ],
         "name": "Pfizer/BioNTech",
         "showlegend": true,
         "showscale": false,
         "type": "choropleth",
         "z": [
          1,
          1,
          1,
          1,
          1,
          1,
          1,
          1,
          1,
          1,
          1,
          1,
          1,
          1,
          1,
          1,
          1,
          1,
          1,
          1,
          1,
          1,
          1,
          1,
          1,
          1,
          1,
          1,
          1,
          1,
          1,
          1,
          1,
          1,
          1,
          1,
          1,
          1,
          1,
          1,
          1,
          1,
          1,
          1,
          1,
          1,
          1,
          1,
          1,
          1,
          1,
          1,
          1,
          1,
          1,
          1,
          1,
          1,
          1,
          1,
          1,
          1,
          1,
          1,
          1,
          1,
          1,
          1,
          1,
          1,
          1,
          1,
          1,
          1,
          1,
          1,
          1,
          1,
          1,
          1,
          1,
          1,
          1,
          1,
          1,
          1,
          1,
          1,
          1,
          1,
          1,
          1,
          1,
          1,
          1,
          1,
          1,
          1,
          1,
          1,
          1,
          1,
          1,
          1,
          1,
          1,
          1,
          1,
          1,
          1,
          1,
          1,
          1,
          1,
          1,
          1,
          1,
          1,
          1,
          1,
          1,
          1,
          1,
          1,
          1,
          1,
          1,
          1,
          1,
          1,
          1,
          1,
          1,
          1,
          1,
          1,
          1,
          1,
          1,
          1,
          1,
          1,
          1,
          1,
          1,
          1,
          1,
          1,
          1,
          1,
          1,
          1,
          1,
          1,
          1,
          1,
          1,
          1
         ]
        },
        {
         "colorscale": [
          [
           0,
           "#EF553B"
          ],
          [
           1,
           "#EF553B"
          ]
         ],
         "customdata": [
          [
           "Sinopharm/Beijing",
           394
          ],
          [
           "Sinopharm/Beijing",
           405
          ],
          [
           "Sinopharm/Beijing",
           456
          ],
          [
           "Sinopharm/Beijing",
           348
          ],
          [
           "Sinopharm/Beijing",
           456
          ],
          [
           "Sinopharm/Beijing",
           428
          ],
          [
           "Sinopharm/Beijing",
           407
          ],
          [
           "Sinopharm/Beijing",
           448
          ],
          [
           "Sinopharm/Beijing",
           391
          ],
          [
           "Sinopharm/Beijing",
           360
          ],
          [
           "Sinopharm/Beijing",
           412
          ],
          [
           "Sinopharm/Beijing",
           351
          ],
          [
           "Sinopharm/Beijing",
           292
          ],
          [
           "Sinopharm/Beijing",
           151
          ],
          [
           "Sinopharm/Beijing",
           413
          ],
          [
           "Sinopharm/Beijing",
           345
          ],
          [
           "Sinopharm/Beijing",
           374
          ],
          [
           "Sinopharm/Beijing",
           282
          ],
          [
           "Sinopharm/Beijing",
           470
          ],
          [
           "Sinopharm/Beijing",
           335
          ],
          [
           "Sinopharm/Beijing",
           344
          ],
          [
           "Sinopharm/Beijing",
           392
          ],
          [
           "Sinopharm/Beijing",
           338
          ],
          [
           "Sinopharm/Beijing",
           408
          ],
          [
           "Sinopharm/Beijing",
           408
          ],
          [
           "Sinopharm/Beijing",
           421
          ],
          [
           "Sinopharm/Beijing",
           401
          ],
          [
           "Sinopharm/Beijing",
           376
          ],
          [
           "Sinopharm/Beijing",
           354
          ],
          [
           "Sinopharm/Beijing",
           362
          ],
          [
           "Sinopharm/Beijing",
           377
          ],
          [
           "Sinopharm/Beijing",
           381
          ],
          [
           "Sinopharm/Beijing",
           368
          ],
          [
           "Sinopharm/Beijing",
           319
          ],
          [
           "Sinopharm/Beijing",
           408
          ],
          [
           "Sinopharm/Beijing",
           457
          ],
          [
           "Sinopharm/Beijing",
           442
          ],
          [
           "Sinopharm/Beijing",
           415
          ],
          [
           "Sinopharm/Beijing",
           388
          ],
          [
           "Sinopharm/Beijing",
           423
          ],
          [
           "Sinopharm/Beijing",
           423
          ],
          [
           "Sinopharm/Beijing",
           381
          ],
          [
           "Sinopharm/Beijing",
           452
          ],
          [
           "Sinopharm/Beijing",
           367
          ],
          [
           "Sinopharm/Beijing",
           377
          ],
          [
           "Sinopharm/Beijing",
           410
          ],
          [
           "Sinopharm/Beijing",
           379
          ],
          [
           "Sinopharm/Beijing",
           342
          ],
          [
           "Sinopharm/Beijing",
           414
          ],
          [
           "Sinopharm/Beijing",
           315
          ],
          [
           "Sinopharm/Beijing",
           399
          ],
          [
           "Sinopharm/Beijing",
           404
          ],
          [
           "Sinopharm/Beijing",
           362
          ],
          [
           "Sinopharm/Beijing",
           413
          ],
          [
           "Sinopharm/Beijing",
           390
          ],
          [
           "Sinopharm/Beijing",
           401
          ],
          [
           "Sinopharm/Beijing",
           403
          ],
          [
           "Sinopharm/Beijing",
           420
          ],
          [
           "Sinopharm/Beijing",
           384
          ],
          [
           "Sinopharm/Beijing",
           425
          ],
          [
           "Sinopharm/Beijing",
           373
          ],
          [
           "Sinopharm/Beijing",
           428
          ],
          [
           "Sinopharm/Beijing",
           362
          ],
          [
           "Sinopharm/Beijing",
           398
          ],
          [
           "Sinopharm/Beijing",
           402
          ],
          [
           "Sinopharm/Beijing",
           360
          ],
          [
           "Sinopharm/Beijing",
           397
          ],
          [
           "Sinopharm/Beijing",
           412
          ],
          [
           "Sinopharm/Beijing",
           395
          ],
          [
           "Sinopharm/Beijing",
           376
          ],
          [
           "Sinopharm/Beijing",
           387
          ],
          [
           "Sinopharm/Beijing",
           439
          ],
          [
           "Sinopharm/Beijing",
           434
          ],
          [
           "Sinopharm/Beijing",
           367
          ],
          [
           "Sinopharm/Beijing",
           454
          ],
          [
           "Sinopharm/Beijing",
           340
          ],
          [
           "Sinopharm/Beijing",
           419
          ],
          [
           "Sinopharm/Beijing",
           363
          ],
          [
           "Sinopharm/Beijing",
           399
          ],
          [
           "Sinopharm/Beijing",
           388
          ],
          [
           "Sinopharm/Beijing",
           228
          ],
          [
           "Sinopharm/Beijing",
           396
          ],
          [
           "Sinopharm/Beijing",
           408
          ],
          [
           "Sinopharm/Beijing",
           375
          ],
          [
           "Sinopharm/Beijing",
           190
          ],
          [
           "Sinopharm/Beijing",
           449
          ],
          [
           "Sinopharm/Beijing",
           402
          ],
          [
           "Sinopharm/Beijing",
           381
          ],
          [
           "Sinopharm/Beijing",
           350
          ],
          [
           "Sinopharm/Beijing",
           405
          ]
         ],
         "geo": "geo",
         "hovertemplate": "<b>%{hovertext}</b><br><br>vaccine=%{customdata[0]}<br>country=%{location}<br>count=%{customdata[1]}<extra></extra>",
         "hovertext": [
          "Afghanistan",
          "Algeria",
          "Argentina",
          "Armenia",
          "Bahrain",
          "Bangladesh",
          "Barbados",
          "Belarus",
          "Belize",
          "Bhutan",
          "Bolivia",
          "Brunei",
          "Burkina Faso",
          "Burundi",
          "Cambodia",
          "Cameroon",
          "Cape Verde",
          "Chad",
          "China",
          "Comoros",
          "Congo",
          "Cote d'Ivoire",
          "Djibouti",
          "Dominica",
          "Dominican Republic",
          "Egypt",
          "El Salvador",
          "Equatorial Guinea",
          "Ethiopia",
          "Gabon",
          "Gambia",
          "Georgia",
          "Guinea",
          "Guinea-Bissau",
          "Guyana",
          "Hungary",
          "Indonesia",
          "Iran",
          "Iraq",
          "Jordan",
          "Kazakhstan",
          "Kenya",
          "Kuwait",
          "Kyrgyzstan",
          "Laos",
          "Lebanon",
          "Lesotho",
          "Libya",
          "Macao",
          "Madagascar",
          "Malaysia",
          "Maldives",
          "Mauritania",
          "Mauritius",
          "Moldova",
          "Mongolia",
          "Montenegro",
          "Morocco",
          "Mozambique",
          "Myanmar",
          "Namibia",
          "Nepal",
          "Niger",
          "North Macedonia",
          "Pakistan",
          "Palestine",
          "Paraguay",
          "Peru",
          "Philippines",
          "Rwanda",
          "Senegal",
          "Serbia",
          "Seychelles",
          "Sierra Leone",
          "Singapore",
          "Somalia",
          "Sri Lanka",
          "Sudan",
          "Suriname",
          "Syria",
          "Tanzania",
          "Thailand",
          "Trinidad and Tobago",
          "Tunisia",
          "Turkmenistan",
          "United Arab Emirates",
          "Venezuela",
          "Vietnam",
          "Zambia",
          "Zimbabwe"
         ],
         "locationmode": "country names",
         "locations": [
          "Afghanistan",
          "Algeria",
          "Argentina",
          "Armenia",
          "Bahrain",
          "Bangladesh",
          "Barbados",
          "Belarus",
          "Belize",
          "Bhutan",
          "Bolivia",
          "Brunei",
          "Burkina Faso",
          "Burundi",
          "Cambodia",
          "Cameroon",
          "Cape Verde",
          "Chad",
          "China",
          "Comoros",
          "Congo",
          "Cote d'Ivoire",
          "Djibouti",
          "Dominica",
          "Dominican Republic",
          "Egypt",
          "El Salvador",
          "Equatorial Guinea",
          "Ethiopia",
          "Gabon",
          "Gambia",
          "Georgia",
          "Guinea",
          "Guinea-Bissau",
          "Guyana",
          "Hungary",
          "Indonesia",
          "Iran",
          "Iraq",
          "Jordan",
          "Kazakhstan",
          "Kenya",
          "Kuwait",
          "Kyrgyzstan",
          "Laos",
          "Lebanon",
          "Lesotho",
          "Libya",
          "Macao",
          "Madagascar",
          "Malaysia",
          "Maldives",
          "Mauritania",
          "Mauritius",
          "Moldova",
          "Mongolia",
          "Montenegro",
          "Morocco",
          "Mozambique",
          "Myanmar",
          "Namibia",
          "Nepal",
          "Niger",
          "North Macedonia",
          "Pakistan",
          "Palestine",
          "Paraguay",
          "Peru",
          "Philippines",
          "Rwanda",
          "Senegal",
          "Serbia",
          "Seychelles",
          "Sierra Leone",
          "Singapore",
          "Somalia",
          "Sri Lanka",
          "Sudan",
          "Suriname",
          "Syria",
          "Tanzania",
          "Thailand",
          "Trinidad and Tobago",
          "Tunisia",
          "Turkmenistan",
          "United Arab Emirates",
          "Venezuela",
          "Vietnam",
          "Zambia",
          "Zimbabwe"
         ],
         "name": "Sinopharm/Beijing",
         "showlegend": true,
         "showscale": false,
         "type": "choropleth",
         "z": [
          1,
          1,
          1,
          1,
          1,
          1,
          1,
          1,
          1,
          1,
          1,
          1,
          1,
          1,
          1,
          1,
          1,
          1,
          1,
          1,
          1,
          1,
          1,
          1,
          1,
          1,
          1,
          1,
          1,
          1,
          1,
          1,
          1,
          1,
          1,
          1,
          1,
          1,
          1,
          1,
          1,
          1,
          1,
          1,
          1,
          1,
          1,
          1,
          1,
          1,
          1,
          1,
          1,
          1,
          1,
          1,
          1,
          1,
          1,
          1,
          1,
          1,
          1,
          1,
          1,
          1,
          1,
          1,
          1,
          1,
          1,
          1,
          1,
          1,
          1,
          1,
          1,
          1,
          1,
          1,
          1,
          1,
          1,
          1,
          1,
          1,
          1,
          1,
          1,
          1
         ]
        },
        {
         "colorscale": [
          [
           0,
           "#AB63FA"
          ],
          [
           1,
           "#AB63FA"
          ]
         ],
         "customdata": [
          [
           "Sinovac",
           439
          ],
          [
           "Sinovac",
           405
          ],
          [
           "Sinovac",
           348
          ],
          [
           "Sinovac",
           437
          ],
          [
           "Sinovac",
           428
          ],
          [
           "Sinovac",
           315
          ],
          [
           "Sinovac",
           353
          ],
          [
           "Sinovac",
           362
          ],
          [
           "Sinovac",
           437
          ],
          [
           "Sinovac",
           413
          ],
          [
           "Sinovac",
           454
          ],
          [
           "Sinovac",
           470
          ],
          [
           "Sinovac",
           404
          ],
          [
           "Sinovac",
           338
          ],
          [
           "Sinovac",
           408
          ],
          [
           "Sinovac",
           431
          ],
          [
           "Sinovac",
           421
          ],
          [
           "Sinovac",
           401
          ],
          [
           "Sinovac",
           354
          ],
          [
           "Sinovac",
           381
          ],
          [
           "Sinovac",
           368
          ],
          [
           "Sinovac",
           399
          ],
          [
           "Sinovac",
           442
          ],
          [
           "Sinovac",
           377
          ],
          [
           "Sinovac",
           342
          ],
          [
           "Sinovac",
           399
          ],
          [
           "Sinovac",
           461
          ],
          [
           "Sinovac",
           398
          ],
          [
           "Sinovac",
           317
          ],
          [
           "Sinovac",
           450
          ],
          [
           "Sinovac",
           402
          ],
          [
           "Sinovac",
           360
          ],
          [
           "Sinovac",
           397
          ],
          [
           "Sinovac",
           395
          ],
          [
           "Sinovac",
           376
          ],
          [
           "Sinovac",
           454
          ],
          [
           "Sinovac",
           340
          ],
          [
           "Sinovac",
           363
          ],
          [
           "Sinovac",
           388
          ],
          [
           "Sinovac",
           311
          ],
          [
           "Sinovac",
           396
          ],
          [
           "Sinovac",
           343
          ],
          [
           "Sinovac",
           375
          ],
          [
           "Sinovac",
           441
          ],
          [
           "Sinovac",
           371
          ],
          [
           "Sinovac",
           365
          ],
          [
           "Sinovac",
           396
          ],
          [
           "Sinovac",
           348
          ],
          [
           "Sinovac",
           402
          ],
          [
           "Sinovac",
           312
          ],
          [
           "Sinovac",
           405
          ]
         ],
         "geo": "geo",
         "hovertemplate": "<b>%{hovertext}</b><br><br>vaccine=%{customdata[0]}<br>country=%{location}<br>count=%{customdata[1]}<extra></extra>",
         "hovertext": [
          "Albania",
          "Algeria",
          "Armenia",
          "Azerbaijan",
          "Bangladesh",
          "Benin",
          "Bosnia and Herzegovina",
          "Botswana",
          "Brazil",
          "Cambodia",
          "Chile",
          "China",
          "Colombia",
          "Djibouti",
          "Dominican Republic",
          "Ecuador",
          "Egypt",
          "El Salvador",
          "Ethiopia",
          "Georgia",
          "Guinea",
          "Hong Kong",
          "Indonesia",
          "Laos",
          "Libya",
          "Malaysia",
          "Mexico",
          "North Macedonia",
          "Northern Cyprus",
          "Oman",
          "Pakistan",
          "Palestine",
          "Paraguay",
          "Philippines",
          "Rwanda",
          "Singapore",
          "Somalia",
          "Sudan",
          "Syria",
          "Tajikistan",
          "Thailand",
          "Timor",
          "Tunisia",
          "Turkey",
          "Uganda",
          "Ukraine",
          "Uruguay",
          "Uzbekistan",
          "Venezuela",
          "Yemen",
          "Zimbabwe"
         ],
         "locationmode": "country names",
         "locations": [
          "Albania",
          "Algeria",
          "Armenia",
          "Azerbaijan",
          "Bangladesh",
          "Benin",
          "Bosnia and Herzegovina",
          "Botswana",
          "Brazil",
          "Cambodia",
          "Chile",
          "China",
          "Colombia",
          "Djibouti",
          "Dominican Republic",
          "Ecuador",
          "Egypt",
          "El Salvador",
          "Ethiopia",
          "Georgia",
          "Guinea",
          "Hong Kong",
          "Indonesia",
          "Laos",
          "Libya",
          "Malaysia",
          "Mexico",
          "North Macedonia",
          "Northern Cyprus",
          "Oman",
          "Pakistan",
          "Palestine",
          "Paraguay",
          "Philippines",
          "Rwanda",
          "Singapore",
          "Somalia",
          "Sudan",
          "Syria",
          "Tajikistan",
          "Thailand",
          "Timor",
          "Tunisia",
          "Turkey",
          "Uganda",
          "Ukraine",
          "Uruguay",
          "Uzbekistan",
          "Venezuela",
          "Yemen",
          "Zimbabwe"
         ],
         "name": "Sinovac",
         "showlegend": true,
         "showscale": false,
         "type": "choropleth",
         "z": [
          1,
          1,
          1,
          1,
          1,
          1,
          1,
          1,
          1,
          1,
          1,
          1,
          1,
          1,
          1,
          1,
          1,
          1,
          1,
          1,
          1,
          1,
          1,
          1,
          1,
          1,
          1,
          1,
          1,
          1,
          1,
          1,
          1,
          1,
          1,
          1,
          1,
          1,
          1,
          1,
          1,
          1,
          1,
          1,
          1,
          1,
          1,
          1,
          1,
          1,
          1
         ]
        },
        {
         "colorscale": [
          [
           0,
           "#FECB52"
          ],
          [
           1,
           "#FECB52"
          ]
         ],
         "customdata": [
          [
           "Sputnik V",
           439
          ],
          [
           "Sputnik V",
           405
          ],
          [
           "Sputnik V",
           392
          ],
          [
           "Sputnik V",
           456
          ],
          [
           "Sputnik V",
           348
          ],
          [
           "Sputnik V",
           437
          ],
          [
           "Sputnik V",
           456
          ],
          [
           "Sputnik V",
           448
          ],
          [
           "Sputnik V",
           412
          ],
          [
           "Sputnik V",
           353
          ],
          [
           "Sputnik V",
           344
          ],
          [
           "Sputnik V",
           392
          ],
          [
           "Sputnik V",
           338
          ],
          [
           "Sputnik V",
           421
          ],
          [
           "Sputnik V",
           362
          ],
          [
           "Sputnik V",
           365
          ],
          [
           "Sputnik V",
           394
          ],
          [
           "Sputnik V",
           368
          ],
          [
           "Sputnik V",
           408
          ],
          [
           "Sputnik V",
           391
          ],
          [
           "Sputnik V",
           457
          ],
          [
           "Sputnik V",
           439
          ],
          [
           "Sputnik V",
           415
          ],
          [
           "Sputnik V",
           388
          ],
          [
           "Sputnik V",
           423
          ],
          [
           "Sputnik V",
           423
          ],
          [
           "Sputnik V",
           367
          ],
          [
           "Sputnik V",
           377
          ],
          [
           "Sputnik V",
           410
          ],
          [
           "Sputnik V",
           342
          ],
          [
           "Sputnik V",
           461
          ],
          [
           "Sputnik V",
           390
          ],
          [
           "Sputnik V",
           401
          ],
          [
           "Sputnik V",
           403
          ],
          [
           "Sputnik V",
           420
          ],
          [
           "Sputnik V",
           390
          ],
          [
           "Sputnik V",
           398
          ],
          [
           "Sputnik V",
           450
          ],
          [
           "Sputnik V",
           402
          ],
          [
           "Sputnik V",
           360
          ],
          [
           "Sputnik V",
           397
          ],
          [
           "Sputnik V",
           395
          ],
          [
           "Sputnik V",
           470
          ],
          [
           "Sputnik V",
           376
          ],
          [
           "Sputnik V",
           387
          ],
          [
           "Sputnik V",
           439
          ],
          [
           "Sputnik V",
           434
          ],
          [
           "Sputnik V",
           449
          ],
          [
           "Sputnik V",
           419
          ],
          [
           "Sputnik V",
           388
          ],
          [
           "Sputnik V",
           311
          ],
          [
           "Sputnik V",
           375
          ],
          [
           "Sputnik V",
           190
          ],
          [
           "Sputnik V",
           449
          ],
          [
           "Sputnik V",
           348
          ],
          [
           "Sputnik V",
           402
          ],
          [
           "Sputnik V",
           381
          ],
          [
           "Sputnik V",
           405
          ]
         ],
         "geo": "geo",
         "hovertemplate": "<b>%{hovertext}</b><br><br>vaccine=%{customdata[0]}<br>country=%{location}<br>count=%{customdata[1]}<extra></extra>",
         "hovertext": [
          "Albania",
          "Algeria",
          "Antigua and Barbuda",
          "Argentina",
          "Armenia",
          "Azerbaijan",
          "Bahrain",
          "Belarus",
          "Bolivia",
          "Bosnia and Herzegovina",
          "Congo",
          "Cote d'Ivoire",
          "Djibouti",
          "Egypt",
          "Gabon",
          "Ghana",
          "Guatemala",
          "Guinea",
          "Guyana",
          "Honduras",
          "Hungary",
          "India",
          "Iran",
          "Iraq",
          "Jordan",
          "Kazakhstan",
          "Kyrgyzstan",
          "Laos",
          "Lebanon",
          "Libya",
          "Mexico",
          "Moldova",
          "Mongolia",
          "Montenegro",
          "Morocco",
          "Nicaragua",
          "North Macedonia",
          "Oman",
          "Pakistan",
          "Palestine",
          "Paraguay",
          "Philippines",
          "Russia",
          "Rwanda",
          "San Marino",
          "Serbia",
          "Seychelles",
          "Slovakia",
          "Sri Lanka",
          "Syria",
          "Tajikistan",
          "Tunisia",
          "Turkmenistan",
          "United Arab Emirates",
          "Uzbekistan",
          "Venezuela",
          "Vietnam",
          "Zimbabwe"
         ],
         "locationmode": "country names",
         "locations": [
          "Albania",
          "Algeria",
          "Antigua and Barbuda",
          "Argentina",
          "Armenia",
          "Azerbaijan",
          "Bahrain",
          "Belarus",
          "Bolivia",
          "Bosnia and Herzegovina",
          "Congo",
          "Cote d'Ivoire",
          "Djibouti",
          "Egypt",
          "Gabon",
          "Ghana",
          "Guatemala",
          "Guinea",
          "Guyana",
          "Honduras",
          "Hungary",
          "India",
          "Iran",
          "Iraq",
          "Jordan",
          "Kazakhstan",
          "Kyrgyzstan",
          "Laos",
          "Lebanon",
          "Libya",
          "Mexico",
          "Moldova",
          "Mongolia",
          "Montenegro",
          "Morocco",
          "Nicaragua",
          "North Macedonia",
          "Oman",
          "Pakistan",
          "Palestine",
          "Paraguay",
          "Philippines",
          "Russia",
          "Rwanda",
          "San Marino",
          "Serbia",
          "Seychelles",
          "Slovakia",
          "Sri Lanka",
          "Syria",
          "Tajikistan",
          "Tunisia",
          "Turkmenistan",
          "United Arab Emirates",
          "Uzbekistan",
          "Venezuela",
          "Vietnam",
          "Zimbabwe"
         ],
         "name": "Sputnik V",
         "showlegend": true,
         "showscale": false,
         "type": "choropleth",
         "z": [
          1,
          1,
          1,
          1,
          1,
          1,
          1,
          1,
          1,
          1,
          1,
          1,
          1,
          1,
          1,
          1,
          1,
          1,
          1,
          1,
          1,
          1,
          1,
          1,
          1,
          1,
          1,
          1,
          1,
          1,
          1,
          1,
          1,
          1,
          1,
          1,
          1,
          1,
          1,
          1,
          1,
          1,
          1,
          1,
          1,
          1,
          1,
          1,
          1,
          1,
          1,
          1,
          1,
          1,
          1,
          1,
          1,
          1
         ]
        },
        {
         "colorscale": [
          [
           0,
           "#00CC96"
          ],
          [
           1,
           "#00CC96"
          ]
         ],
         "customdata": [
          [
           "Moderna",
           413
          ],
          [
           "Moderna",
           456
          ],
          [
           "Moderna",
           348
          ],
          [
           "Moderna",
           402
          ],
          [
           "Moderna",
           442
          ],
          [
           "Moderna",
           456
          ],
          [
           "Moderna",
           428
          ],
          [
           "Moderna",
           454
          ],
          [
           "Moderna",
           360
          ],
          [
           "Moderna",
           146
          ],
          [
           "Moderna",
           362
          ],
          [
           "Moderna",
           351
          ],
          [
           "Moderna",
           456
          ],
          [
           "Moderna",
           470
          ],
          [
           "Moderna",
           374
          ],
          [
           "Moderna",
           404
          ],
          [
           "Moderna",
           344
          ],
          [
           "Moderna",
           455
          ],
          [
           "Moderna",
           366
          ],
          [
           "Moderna",
           417
          ],
          [
           "Moderna",
           458
          ],
          [
           "Moderna",
           476
          ],
          [
           "Moderna",
           443
          ],
          [
           "Moderna",
           458
          ],
          [
           "Moderna",
           386
          ],
          [
           "Moderna",
           377
          ],
          [
           "Moderna",
           451
          ],
          [
           "Moderna",
           457
          ],
          [
           "Moderna",
           458
          ],
          [
           "Moderna",
           457
          ],
          [
           "Moderna",
           405
          ],
          [
           "Moderna",
           394
          ],
          [
           "Moderna",
           424
          ],
          [
           "Moderna",
           408
          ],
          [
           "Moderna",
           251
          ],
          [
           "Moderna",
           391
          ],
          [
           "Moderna",
           457
          ],
          [
           "Moderna",
           455
          ],
          [
           "Moderna",
           442
          ],
          [
           "Moderna",
           456
          ],
          [
           "Moderna",
           433
          ],
          [
           "Moderna",
           466
          ],
          [
           "Moderna",
           458
          ],
          [
           "Moderna",
           386
          ],
          [
           "Moderna",
           406
          ],
          [
           "Moderna",
           372
          ],
          [
           "Moderna",
           423
          ],
          [
           "Moderna",
           381
          ],
          [
           "Moderna",
           452
          ],
          [
           "Moderna",
           480
          ],
          [
           "Moderna",
           463
          ],
          [
           "Moderna",
           458
          ],
          [
           "Moderna",
           454
          ],
          [
           "Moderna",
           436
          ],
          [
           "Moderna",
           461
          ],
          [
           "Moderna",
           428
          ],
          [
           "Moderna",
           435
          ],
          [
           "Moderna",
           443
          ],
          [
           "Moderna",
           482
          ],
          [
           "Moderna",
           402
          ],
          [
           "Moderna",
           360
          ],
          [
           "Moderna",
           397
          ],
          [
           "Moderna",
           395
          ],
          [
           "Moderna",
           457
          ],
          [
           "Moderna",
           439
          ],
          [
           "Moderna",
           463
          ],
          [
           "Moderna",
           457
          ],
          [
           "Moderna",
           376
          ],
          [
           "Moderna",
           443
          ],
          [
           "Moderna",
           454
          ],
          [
           "Moderna",
           323
          ],
          [
           "Moderna",
           449
          ],
          [
           "Moderna",
           458
          ],
          [
           "Moderna",
           397
          ],
          [
           "Moderna",
           444
          ],
          [
           "Moderna",
           419
          ],
          [
           "Moderna",
           447
          ],
          [
           "Moderna",
           463
          ],
          [
           "Moderna",
           374
          ],
          [
           "Moderna",
           311
          ],
          [
           "Moderna",
           396
          ],
          [
           "Moderna",
           375
          ],
          [
           "Moderna",
           371
          ],
          [
           "Moderna",
           365
          ],
          [
           "Moderna",
           443
          ],
          [
           "Moderna",
           471
          ],
          [
           "Moderna",
           348
          ],
          [
           "Moderna",
           381
          ],
          [
           "Moderna",
           443
          ],
          [
           "Moderna",
           371
          ]
         ],
         "geo": "geo",
         "hovertemplate": "<b>%{hovertext}</b><br><br>vaccine=%{customdata[0]}<br>country=%{location}<br>count=%{customdata[1]}<extra></extra>",
         "hovertext": [
          "Andorra",
          "Argentina",
          "Armenia",
          "Australia",
          "Austria",
          "Bahrain",
          "Bangladesh",
          "Belgium",
          "Bhutan",
          "Bonaire Sint Eustatius and Saba",
          "Botswana",
          "Brunei",
          "Bulgaria",
          "Canada",
          "Cape Verde",
          "Colombia",
          "Congo",
          "Croatia",
          "Curacao",
          "Cyprus",
          "Czechia",
          "Denmark",
          "England",
          "Estonia",
          "Faeroe Islands",
          "Fiji",
          "Finland",
          "France",
          "Germany",
          "Greece",
          "Greenland",
          "Guatemala",
          "Guernsey",
          "Guyana",
          "Haiti",
          "Honduras",
          "Hungary",
          "Iceland",
          "Indonesia",
          "Ireland",
          "Isle of Man",
          "Israel",
          "Italy",
          "Jamaica",
          "Japan",
          "Jersey",
          "Jordan",
          "Kenya",
          "Kuwait",
          "Latvia",
          "Liechtenstein",
          "Lithuania",
          "Luxembourg",
          "Malta",
          "Mexico",
          "Nepal",
          "Netherlands",
          "Northern Ireland",
          "Norway",
          "Pakistan",
          "Palestine",
          "Paraguay",
          "Philippines",
          "Poland",
          "Portugal",
          "Qatar",
          "Romania",
          "Rwanda",
          "Scotland",
          "Singapore",
          "Sint Maarten (Dutch part)",
          "Slovakia",
          "Slovenia",
          "South Korea",
          "Spain",
          "Sri Lanka",
          "Sweden",
          "Switzerland",
          "Taiwan",
          "Tajikistan",
          "Thailand",
          "Tunisia",
          "Uganda",
          "Ukraine",
          "United Kingdom",
          "United States",
          "Uzbekistan",
          "Vietnam",
          "Wales",
          "Wallis and Futuna"
         ],
         "locationmode": "country names",
         "locations": [
          "Andorra",
          "Argentina",
          "Armenia",
          "Australia",
          "Austria",
          "Bahrain",
          "Bangladesh",
          "Belgium",
          "Bhutan",
          "Bonaire Sint Eustatius and Saba",
          "Botswana",
          "Brunei",
          "Bulgaria",
          "Canada",
          "Cape Verde",
          "Colombia",
          "Congo",
          "Croatia",
          "Curacao",
          "Cyprus",
          "Czechia",
          "Denmark",
          "England",
          "Estonia",
          "Faeroe Islands",
          "Fiji",
          "Finland",
          "France",
          "Germany",
          "Greece",
          "Greenland",
          "Guatemala",
          "Guernsey",
          "Guyana",
          "Haiti",
          "Honduras",
          "Hungary",
          "Iceland",
          "Indonesia",
          "Ireland",
          "Isle of Man",
          "Israel",
          "Italy",
          "Jamaica",
          "Japan",
          "Jersey",
          "Jordan",
          "Kenya",
          "Kuwait",
          "Latvia",
          "Liechtenstein",
          "Lithuania",
          "Luxembourg",
          "Malta",
          "Mexico",
          "Nepal",
          "Netherlands",
          "Northern Ireland",
          "Norway",
          "Pakistan",
          "Palestine",
          "Paraguay",
          "Philippines",
          "Poland",
          "Portugal",
          "Qatar",
          "Romania",
          "Rwanda",
          "Scotland",
          "Singapore",
          "Sint Maarten (Dutch part)",
          "Slovakia",
          "Slovenia",
          "South Korea",
          "Spain",
          "Sri Lanka",
          "Sweden",
          "Switzerland",
          "Taiwan",
          "Tajikistan",
          "Thailand",
          "Tunisia",
          "Uganda",
          "Ukraine",
          "United Kingdom",
          "United States",
          "Uzbekistan",
          "Vietnam",
          "Wales",
          "Wallis and Futuna"
         ],
         "name": "Moderna",
         "showlegend": true,
         "showscale": false,
         "type": "choropleth",
         "z": [
          1,
          1,
          1,
          1,
          1,
          1,
          1,
          1,
          1,
          1,
          1,
          1,
          1,
          1,
          1,
          1,
          1,
          1,
          1,
          1,
          1,
          1,
          1,
          1,
          1,
          1,
          1,
          1,
          1,
          1,
          1,
          1,
          1,
          1,
          1,
          1,
          1,
          1,
          1,
          1,
          1,
          1,
          1,
          1,
          1,
          1,
          1,
          1,
          1,
          1,
          1,
          1,
          1,
          1,
          1,
          1,
          1,
          1,
          1,
          1,
          1,
          1,
          1,
          1,
          1,
          1,
          1,
          1,
          1,
          1,
          1,
          1,
          1,
          1,
          1,
          1,
          1,
          1,
          1,
          1,
          1,
          1,
          1,
          1,
          1,
          1,
          1,
          1,
          1,
          1
         ]
        },
        {
         "colorscale": [
          [
           0,
           "#636EFA"
          ],
          [
           1,
           "#636EFA"
          ]
         ],
         "customdata": [
          [
           "CanSino",
           456
          ],
          [
           "CanSino",
           454
          ],
          [
           "CanSino",
           470
          ],
          [
           "CanSino",
           431
          ],
          [
           "CanSino",
           399
          ],
          [
           "CanSino",
           461
          ],
          [
           "CanSino",
           402
          ]
         ],
         "geo": "geo",
         "hovertemplate": "<b>%{hovertext}</b><br><br>vaccine=%{customdata[0]}<br>country=%{location}<br>count=%{customdata[1]}<extra></extra>",
         "hovertext": [
          "Argentina",
          "Chile",
          "China",
          "Ecuador",
          "Malaysia",
          "Mexico",
          "Pakistan"
         ],
         "locationmode": "country names",
         "locations": [
          "Argentina",
          "Chile",
          "China",
          "Ecuador",
          "Malaysia",
          "Mexico",
          "Pakistan"
         ],
         "name": "CanSino",
         "showlegend": true,
         "showscale": false,
         "type": "choropleth",
         "z": [
          1,
          1,
          1,
          1,
          1,
          1,
          1
         ]
        },
        {
         "colorscale": [
          [
           0,
           "#AB63FA"
          ],
          [
           1,
           "#AB63FA"
          ]
         ],
         "customdata": [
          [
           "Novavax",
           442
          ],
          [
           "Novavax",
           458
          ],
          [
           "Novavax",
           458
          ],
          [
           "Novavax",
           442
          ],
          [
           "Novavax",
           458
          ],
          [
           "Novavax",
           480
          ],
          [
           "Novavax",
           458
          ],
          [
           "Novavax",
           435
          ],
          [
           "Novavax",
           449
          ],
          [
           "Novavax",
           458
          ],
          [
           "Novavax",
           397
          ]
         ],
         "geo": "geo",
         "hovertemplate": "<b>%{hovertext}</b><br><br>vaccine=%{customdata[0]}<br>country=%{location}<br>count=%{customdata[1]}<extra></extra>",
         "hovertext": [
          "Austria",
          "Czechia",
          "Germany",
          "Indonesia",
          "Italy",
          "Latvia",
          "Lithuania",
          "Netherlands",
          "Slovakia",
          "Slovenia",
          "South Korea"
         ],
         "locationmode": "country names",
         "locations": [
          "Austria",
          "Czechia",
          "Germany",
          "Indonesia",
          "Italy",
          "Latvia",
          "Lithuania",
          "Netherlands",
          "Slovakia",
          "Slovenia",
          "South Korea"
         ],
         "name": "Novavax",
         "showlegend": true,
         "showscale": false,
         "type": "choropleth",
         "z": [
          1,
          1,
          1,
          1,
          1,
          1,
          1,
          1,
          1,
          1,
          1
         ]
        },
        {
         "colorscale": [
          [
           0,
           "#FF6692"
          ],
          [
           1,
           "#FF6692"
          ]
         ],
         "customdata": [
          [
           "Sputnik Light",
           456
          ],
          [
           "Sputnik Light",
           377
          ],
          [
           "Sputnik Light",
           390
          ],
          [
           "Sputnik Light",
           360
          ],
          [
           "Sputnik Light",
           395
          ],
          [
           "Sputnik Light",
           388
          ],
          [
           "Sputnik Light",
           348
          ],
          [
           "Sputnik Light",
           402
          ]
         ],
         "geo": "geo",
         "hovertemplate": "<b>%{hovertext}</b><br><br>vaccine=%{customdata[0]}<br>country=%{location}<br>count=%{customdata[1]}<extra></extra>",
         "hovertext": [
          "Bahrain",
          "Laos",
          "Nicaragua",
          "Palestine",
          "Philippines",
          "Syria",
          "Uzbekistan",
          "Venezuela"
         ],
         "locationmode": "country names",
         "locations": [
          "Bahrain",
          "Laos",
          "Nicaragua",
          "Palestine",
          "Philippines",
          "Syria",
          "Uzbekistan",
          "Venezuela"
         ],
         "name": "Sputnik Light",
         "showlegend": true,
         "showscale": false,
         "type": "choropleth",
         "z": [
          1,
          1,
          1,
          1,
          1,
          1,
          1,
          1
         ]
        },
        {
         "colorscale": [
          [
           0,
           "#B6E880"
          ],
          [
           1,
           "#B6E880"
          ]
         ],
         "customdata": [
          [
           "Covaxin",
           362
          ],
          [
           "Covaxin",
           318
          ],
          [
           "Covaxin",
           335
          ],
          [
           "Covaxin",
           354
          ],
          [
           "Covaxin",
           439
          ],
          [
           "Covaxin",
           415
          ],
          [
           "Covaxin",
           413
          ],
          [
           "Covaxin",
           402
          ],
          [
           "Covaxin",
           397
          ]
         ],
         "geo": "geo",
         "hovertemplate": "<b>%{hovertext}</b><br><br>vaccine=%{customdata[0]}<br>country=%{location}<br>count=%{customdata[1]}<extra></extra>",
         "hovertext": [
          "Botswana",
          "Central African Republic",
          "Comoros",
          "Ethiopia",
          "India",
          "Iran",
          "Mauritius",
          "Pakistan",
          "Paraguay"
         ],
         "locationmode": "country names",
         "locations": [
          "Botswana",
          "Central African Republic",
          "Comoros",
          "Ethiopia",
          "India",
          "Iran",
          "Mauritius",
          "Pakistan",
          "Paraguay"
         ],
         "name": "Covaxin",
         "showlegend": true,
         "showscale": false,
         "type": "choropleth",
         "z": [
          1,
          1,
          1,
          1,
          1,
          1,
          1,
          1,
          1
         ]
        },
        {
         "colorscale": [
          [
           0,
           "#B6E880"
          ],
          [
           1,
           "#B6E880"
          ]
         ],
         "customdata": [
          [
           "Sinopharm/Wuhan",
           470
          ],
          [
           "Sinopharm/Wuhan",
           449
          ]
         ],
         "geo": "geo",
         "hovertemplate": "<b>%{hovertext}</b><br><br>vaccine=%{customdata[0]}<br>country=%{location}<br>count=%{customdata[1]}<extra></extra>",
         "hovertext": [
          "China",
          "United Arab Emirates"
         ],
         "locationmode": "country names",
         "locations": [
          "China",
          "United Arab Emirates"
         ],
         "name": "Sinopharm/Wuhan",
         "showlegend": true,
         "showscale": false,
         "type": "choropleth",
         "z": [
          1,
          1
         ]
        },
        {
         "colorscale": [
          [
           0,
           "#00CC96"
          ],
          [
           1,
           "#00CC96"
          ]
         ],
         "customdata": [
          [
           "ZF2001",
           470
          ],
          [
           "ZF2001",
           190
          ],
          [
           "ZF2001",
           348
          ]
         ],
         "geo": "geo",
         "hovertemplate": "<b>%{hovertext}</b><br><br>vaccine=%{customdata[0]}<br>country=%{location}<br>count=%{customdata[1]}<extra></extra>",
         "hovertext": [
          "China",
          "Turkmenistan",
          "Uzbekistan"
         ],
         "locationmode": "country names",
         "locations": [
          "China",
          "Turkmenistan",
          "Uzbekistan"
         ],
         "name": "ZF2001",
         "showlegend": true,
         "showscale": false,
         "type": "choropleth",
         "z": [
          1,
          1,
          1
         ]
        },
        {
         "colorscale": [
          [
           0,
           "#00CC96"
          ],
          [
           1,
           "#00CC96"
          ]
         ],
         "customdata": [
          [
           "Abdala",
           320
          ],
          [
           "Abdala",
           390
          ],
          [
           "Abdala",
           402
          ],
          [
           "Abdala",
           381
          ]
         ],
         "geo": "geo",
         "hovertemplate": "<b>%{hovertext}</b><br><br>vaccine=%{customdata[0]}<br>country=%{location}<br>count=%{customdata[1]}<extra></extra>",
         "hovertext": [
          "Cuba",
          "Nicaragua",
          "Venezuela",
          "Vietnam"
         ],
         "locationmode": "country names",
         "locations": [
          "Cuba",
          "Nicaragua",
          "Venezuela",
          "Vietnam"
         ],
         "name": "Abdala",
         "showlegend": true,
         "showscale": false,
         "type": "choropleth",
         "z": [
          1,
          1,
          1,
          1
         ]
        },
        {
         "colorscale": [
          [
           0,
           "#636EFA"
          ],
          [
           1,
           "#636EFA"
          ]
         ],
         "customdata": [
          [
           "Soberana Plus",
           320
          ]
         ],
         "geo": "geo",
         "hovertemplate": "<b>%{hovertext}</b><br><br>vaccine=%{customdata[0]}<br>country=%{location}<br>count=%{customdata[1]}<extra></extra>",
         "hovertext": [
          "Cuba"
         ],
         "locationmode": "country names",
         "locations": [
          "Cuba"
         ],
         "name": "Soberana Plus",
         "showlegend": true,
         "showscale": false,
         "type": "choropleth",
         "z": [
          1
         ]
        },
        {
         "colorscale": [
          [
           0,
           "#AB63FA"
          ],
          [
           1,
           "#AB63FA"
          ]
         ],
         "customdata": [
          [
           "Soberana02",
           320
          ],
          [
           "Soberana02",
           415
          ],
          [
           "Soberana02",
           390
          ],
          [
           "Soberana02",
           402
          ]
         ],
         "geo": "geo",
         "hovertemplate": "<b>%{hovertext}</b><br><br>vaccine=%{customdata[0]}<br>country=%{location}<br>count=%{customdata[1]}<extra></extra>",
         "hovertext": [
          "Cuba",
          "Iran",
          "Nicaragua",
          "Venezuela"
         ],
         "locationmode": "country names",
         "locations": [
          "Cuba",
          "Iran",
          "Nicaragua",
          "Venezuela"
         ],
         "name": "Soberana02",
         "showlegend": true,
         "showscale": false,
         "type": "choropleth",
         "z": [
          1,
          1,
          1,
          1
         ]
        },
        {
         "colorscale": [
          [
           0,
           "#EF553B"
          ],
          [
           1,
           "#EF553B"
          ]
         ],
         "customdata": [
          [
           "COVIran Barekat",
           415
          ]
         ],
         "geo": "geo",
         "hovertemplate": "<b>%{hovertext}</b><br><br>vaccine=%{customdata[0]}<br>country=%{location}<br>count=%{customdata[1]}<extra></extra>",
         "hovertext": [
          "Iran"
         ],
         "locationmode": "country names",
         "locations": [
          "Iran"
         ],
         "name": "COVIran Barekat",
         "showlegend": true,
         "showscale": false,
         "type": "choropleth",
         "z": [
          1
         ]
        },
        {
         "colorscale": [
          [
           0,
           "#FF97FF"
          ],
          [
           1,
           "#FF97FF"
          ]
         ],
         "customdata": [
          [
           "FAKHRAVAC",
           415
          ]
         ],
         "geo": "geo",
         "hovertemplate": "<b>%{hovertext}</b><br><br>vaccine=%{customdata[0]}<br>country=%{location}<br>count=%{customdata[1]}<extra></extra>",
         "hovertext": [
          "Iran"
         ],
         "locationmode": "country names",
         "locations": [
          "Iran"
         ],
         "name": "FAKHRAVAC",
         "showlegend": true,
         "showscale": false,
         "type": "choropleth",
         "z": [
          1
         ]
        },
        {
         "colorscale": [
          [
           0,
           "#636EFA"
          ],
          [
           1,
           "#636EFA"
          ]
         ],
         "customdata": [
          [
           "Razi Cov Pars",
           415
          ]
         ],
         "geo": "geo",
         "hovertemplate": "<b>%{hovertext}</b><br><br>vaccine=%{customdata[0]}<br>country=%{location}<br>count=%{customdata[1]}<extra></extra>",
         "hovertext": [
          "Iran"
         ],
         "locationmode": "country names",
         "locations": [
          "Iran"
         ],
         "name": "Razi Cov Pars",
         "showlegend": true,
         "showscale": false,
         "type": "choropleth",
         "z": [
          1
         ]
        },
        {
         "colorscale": [
          [
           0,
           "#FFA15A"
          ],
          [
           1,
           "#FFA15A"
          ]
         ],
         "customdata": [
          [
           "SpikoGen",
           415
          ]
         ],
         "geo": "geo",
         "hovertemplate": "<b>%{hovertext}</b><br><br>vaccine=%{customdata[0]}<br>country=%{location}<br>count=%{customdata[1]}<extra></extra>",
         "hovertext": [
          "Iran"
         ],
         "locationmode": "country names",
         "locations": [
          "Iran"
         ],
         "name": "SpikoGen",
         "showlegend": true,
         "showscale": false,
         "type": "choropleth",
         "z": [
          1
         ]
        },
        {
         "colorscale": [
          [
           0,
           "#19D3F3"
          ],
          [
           1,
           "#19D3F3"
          ]
         ],
         "customdata": [
          [
           "QazVac",
           423
          ],
          [
           "QazVac",
           190
          ]
         ],
         "geo": "geo",
         "hovertemplate": "<b>%{hovertext}</b><br><br>vaccine=%{customdata[0]}<br>country=%{location}<br>count=%{customdata[1]}<extra></extra>",
         "hovertext": [
          "Kazakhstan",
          "Turkmenistan"
         ],
         "locationmode": "country names",
         "locations": [
          "Kazakhstan",
          "Turkmenistan"
         ],
         "name": "QazVac",
         "showlegend": true,
         "showscale": false,
         "type": "choropleth",
         "z": [
          1,
          1
         ]
        },
        {
         "colorscale": [
          [
           0,
           "#FF97FF"
          ],
          [
           1,
           "#FF97FF"
          ]
         ],
         "customdata": [
          [
           "EpiVacCorona",
           470
          ],
          [
           "EpiVacCorona",
           190
          ]
         ],
         "geo": "geo",
         "hovertemplate": "<b>%{hovertext}</b><br><br>vaccine=%{customdata[0]}<br>country=%{location}<br>count=%{customdata[1]}<extra></extra>",
         "hovertext": [
          "Russia",
          "Turkmenistan"
         ],
         "locationmode": "country names",
         "locations": [
          "Russia",
          "Turkmenistan"
         ],
         "name": "EpiVacCorona",
         "showlegend": true,
         "showscale": false,
         "type": "choropleth",
         "z": [
          1,
          1
         ]
        },
        {
         "colorscale": [
          [
           0,
           "#FF6692"
          ],
          [
           1,
           "#FF6692"
          ]
         ],
         "customdata": [
          [
           "Medigen",
           374
          ]
         ],
         "geo": "geo",
         "hovertemplate": "<b>%{hovertext}</b><br><br>vaccine=%{customdata[0]}<br>country=%{location}<br>count=%{customdata[1]}<extra></extra>",
         "hovertext": [
          "Taiwan"
         ],
         "locationmode": "country names",
         "locations": [
          "Taiwan"
         ],
         "name": "Medigen",
         "showlegend": true,
         "showscale": false,
         "type": "choropleth",
         "z": [
          1
         ]
        },
        {
         "colorscale": [
          [
           0,
           "#19D3F3"
          ],
          [
           1,
           "#19D3F3"
          ]
         ],
         "customdata": [
          [
           "Turkovac",
           441
          ]
         ],
         "geo": "geo",
         "hovertemplate": "<b>%{hovertext}</b><br><br>vaccine=%{customdata[0]}<br>country=%{location}<br>count=%{customdata[1]}<extra></extra>",
         "hovertext": [
          "Turkey"
         ],
         "locationmode": "country names",
         "locations": [
          "Turkey"
         ],
         "name": "Turkovac",
         "showlegend": true,
         "showscale": false,
         "type": "choropleth",
         "z": [
          1
         ]
        }
       ],
       "layout": {
        "geo": {
         "center": {},
         "coastlinecolor": "gray",
         "domain": {
          "x": [
           0,
           1
          ],
          "y": [
           0,
           1
          ]
         },
         "showcoastlines": true
        },
        "legend": {
         "title": {
          "text": "vaccine"
         },
         "tracegroupgap": 0
        },
        "margin": {
         "b": 0,
         "l": 0,
         "r": 0,
         "t": 40
        },
        "template": {
         "data": {
          "bar": [
           {
            "error_x": {
             "color": "#2a3f5f"
            },
            "error_y": {
             "color": "#2a3f5f"
            },
            "marker": {
             "line": {
              "color": "#E5ECF6",
              "width": 0.5
             },
             "pattern": {
              "fillmode": "overlay",
              "size": 10,
              "solidity": 0.2
             }
            },
            "type": "bar"
           }
          ],
          "barpolar": [
           {
            "marker": {
             "line": {
              "color": "#E5ECF6",
              "width": 0.5
             },
             "pattern": {
              "fillmode": "overlay",
              "size": 10,
              "solidity": 0.2
             }
            },
            "type": "barpolar"
           }
          ],
          "carpet": [
           {
            "aaxis": {
             "endlinecolor": "#2a3f5f",
             "gridcolor": "white",
             "linecolor": "white",
             "minorgridcolor": "white",
             "startlinecolor": "#2a3f5f"
            },
            "baxis": {
             "endlinecolor": "#2a3f5f",
             "gridcolor": "white",
             "linecolor": "white",
             "minorgridcolor": "white",
             "startlinecolor": "#2a3f5f"
            },
            "type": "carpet"
           }
          ],
          "choropleth": [
           {
            "colorbar": {
             "outlinewidth": 0,
             "ticks": ""
            },
            "type": "choropleth"
           }
          ],
          "contour": [
           {
            "colorbar": {
             "outlinewidth": 0,
             "ticks": ""
            },
            "colorscale": [
             [
              0,
              "#0d0887"
             ],
             [
              0.1111111111111111,
              "#46039f"
             ],
             [
              0.2222222222222222,
              "#7201a8"
             ],
             [
              0.3333333333333333,
              "#9c179e"
             ],
             [
              0.4444444444444444,
              "#bd3786"
             ],
             [
              0.5555555555555556,
              "#d8576b"
             ],
             [
              0.6666666666666666,
              "#ed7953"
             ],
             [
              0.7777777777777778,
              "#fb9f3a"
             ],
             [
              0.8888888888888888,
              "#fdca26"
             ],
             [
              1,
              "#f0f921"
             ]
            ],
            "type": "contour"
           }
          ],
          "contourcarpet": [
           {
            "colorbar": {
             "outlinewidth": 0,
             "ticks": ""
            },
            "type": "contourcarpet"
           }
          ],
          "heatmap": [
           {
            "colorbar": {
             "outlinewidth": 0,
             "ticks": ""
            },
            "colorscale": [
             [
              0,
              "#0d0887"
             ],
             [
              0.1111111111111111,
              "#46039f"
             ],
             [
              0.2222222222222222,
              "#7201a8"
             ],
             [
              0.3333333333333333,
              "#9c179e"
             ],
             [
              0.4444444444444444,
              "#bd3786"
             ],
             [
              0.5555555555555556,
              "#d8576b"
             ],
             [
              0.6666666666666666,
              "#ed7953"
             ],
             [
              0.7777777777777778,
              "#fb9f3a"
             ],
             [
              0.8888888888888888,
              "#fdca26"
             ],
             [
              1,
              "#f0f921"
             ]
            ],
            "type": "heatmap"
           }
          ],
          "histogram": [
           {
            "marker": {
             "pattern": {
              "fillmode": "overlay",
              "size": 10,
              "solidity": 0.2
             }
            },
            "type": "histogram"
           }
          ],
          "histogram2d": [
           {
            "colorbar": {
             "outlinewidth": 0,
             "ticks": ""
            },
            "colorscale": [
             [
              0,
              "#0d0887"
             ],
             [
              0.1111111111111111,
              "#46039f"
             ],
             [
              0.2222222222222222,
              "#7201a8"
             ],
             [
              0.3333333333333333,
              "#9c179e"
             ],
             [
              0.4444444444444444,
              "#bd3786"
             ],
             [
              0.5555555555555556,
              "#d8576b"
             ],
             [
              0.6666666666666666,
              "#ed7953"
             ],
             [
              0.7777777777777778,
              "#fb9f3a"
             ],
             [
              0.8888888888888888,
              "#fdca26"
             ],
             [
              1,
              "#f0f921"
             ]
            ],
            "type": "histogram2d"
           }
          ],
          "histogram2dcontour": [
           {
            "colorbar": {
             "outlinewidth": 0,
             "ticks": ""
            },
            "colorscale": [
             [
              0,
              "#0d0887"
             ],
             [
              0.1111111111111111,
              "#46039f"
             ],
             [
              0.2222222222222222,
              "#7201a8"
             ],
             [
              0.3333333333333333,
              "#9c179e"
             ],
             [
              0.4444444444444444,
              "#bd3786"
             ],
             [
              0.5555555555555556,
              "#d8576b"
             ],
             [
              0.6666666666666666,
              "#ed7953"
             ],
             [
              0.7777777777777778,
              "#fb9f3a"
             ],
             [
              0.8888888888888888,
              "#fdca26"
             ],
             [
              1,
              "#f0f921"
             ]
            ],
            "type": "histogram2dcontour"
           }
          ],
          "mesh3d": [
           {
            "colorbar": {
             "outlinewidth": 0,
             "ticks": ""
            },
            "type": "mesh3d"
           }
          ],
          "parcoords": [
           {
            "line": {
             "colorbar": {
              "outlinewidth": 0,
              "ticks": ""
             }
            },
            "type": "parcoords"
           }
          ],
          "pie": [
           {
            "automargin": true,
            "type": "pie"
           }
          ],
          "scatter": [
           {
            "fillpattern": {
             "fillmode": "overlay",
             "size": 10,
             "solidity": 0.2
            },
            "type": "scatter"
           }
          ],
          "scatter3d": [
           {
            "line": {
             "colorbar": {
              "outlinewidth": 0,
              "ticks": ""
             }
            },
            "marker": {
             "colorbar": {
              "outlinewidth": 0,
              "ticks": ""
             }
            },
            "type": "scatter3d"
           }
          ],
          "scattercarpet": [
           {
            "marker": {
             "colorbar": {
              "outlinewidth": 0,
              "ticks": ""
             }
            },
            "type": "scattercarpet"
           }
          ],
          "scattergeo": [
           {
            "marker": {
             "colorbar": {
              "outlinewidth": 0,
              "ticks": ""
             }
            },
            "type": "scattergeo"
           }
          ],
          "scattergl": [
           {
            "marker": {
             "colorbar": {
              "outlinewidth": 0,
              "ticks": ""
             }
            },
            "type": "scattergl"
           }
          ],
          "scattermap": [
           {
            "marker": {
             "colorbar": {
              "outlinewidth": 0,
              "ticks": ""
             }
            },
            "type": "scattermap"
           }
          ],
          "scattermapbox": [
           {
            "marker": {
             "colorbar": {
              "outlinewidth": 0,
              "ticks": ""
             }
            },
            "type": "scattermapbox"
           }
          ],
          "scatterpolar": [
           {
            "marker": {
             "colorbar": {
              "outlinewidth": 0,
              "ticks": ""
             }
            },
            "type": "scatterpolar"
           }
          ],
          "scatterpolargl": [
           {
            "marker": {
             "colorbar": {
              "outlinewidth": 0,
              "ticks": ""
             }
            },
            "type": "scatterpolargl"
           }
          ],
          "scatterternary": [
           {
            "marker": {
             "colorbar": {
              "outlinewidth": 0,
              "ticks": ""
             }
            },
            "type": "scatterternary"
           }
          ],
          "surface": [
           {
            "colorbar": {
             "outlinewidth": 0,
             "ticks": ""
            },
            "colorscale": [
             [
              0,
              "#0d0887"
             ],
             [
              0.1111111111111111,
              "#46039f"
             ],
             [
              0.2222222222222222,
              "#7201a8"
             ],
             [
              0.3333333333333333,
              "#9c179e"
             ],
             [
              0.4444444444444444,
              "#bd3786"
             ],
             [
              0.5555555555555556,
              "#d8576b"
             ],
             [
              0.6666666666666666,
              "#ed7953"
             ],
             [
              0.7777777777777778,
              "#fb9f3a"
             ],
             [
              0.8888888888888888,
              "#fdca26"
             ],
             [
              1,
              "#f0f921"
             ]
            ],
            "type": "surface"
           }
          ],
          "table": [
           {
            "cells": {
             "fill": {
              "color": "#EBF0F8"
             },
             "line": {
              "color": "white"
             }
            },
            "header": {
             "fill": {
              "color": "#C8D4E3"
             },
             "line": {
              "color": "white"
             }
            },
            "type": "table"
           }
          ]
         },
         "layout": {
          "annotationdefaults": {
           "arrowcolor": "#2a3f5f",
           "arrowhead": 0,
           "arrowwidth": 1
          },
          "autotypenumbers": "strict",
          "coloraxis": {
           "colorbar": {
            "outlinewidth": 0,
            "ticks": ""
           }
          },
          "colorscale": {
           "diverging": [
            [
             0,
             "#8e0152"
            ],
            [
             0.1,
             "#c51b7d"
            ],
            [
             0.2,
             "#de77ae"
            ],
            [
             0.3,
             "#f1b6da"
            ],
            [
             0.4,
             "#fde0ef"
            ],
            [
             0.5,
             "#f7f7f7"
            ],
            [
             0.6,
             "#e6f5d0"
            ],
            [
             0.7,
             "#b8e186"
            ],
            [
             0.8,
             "#7fbc41"
            ],
            [
             0.9,
             "#4d9221"
            ],
            [
             1,
             "#276419"
            ]
           ],
           "sequential": [
            [
             0,
             "#0d0887"
            ],
            [
             0.1111111111111111,
             "#46039f"
            ],
            [
             0.2222222222222222,
             "#7201a8"
            ],
            [
             0.3333333333333333,
             "#9c179e"
            ],
            [
             0.4444444444444444,
             "#bd3786"
            ],
            [
             0.5555555555555556,
             "#d8576b"
            ],
            [
             0.6666666666666666,
             "#ed7953"
            ],
            [
             0.7777777777777778,
             "#fb9f3a"
            ],
            [
             0.8888888888888888,
             "#fdca26"
            ],
            [
             1,
             "#f0f921"
            ]
           ],
           "sequentialminus": [
            [
             0,
             "#0d0887"
            ],
            [
             0.1111111111111111,
             "#46039f"
            ],
            [
             0.2222222222222222,
             "#7201a8"
            ],
            [
             0.3333333333333333,
             "#9c179e"
            ],
            [
             0.4444444444444444,
             "#bd3786"
            ],
            [
             0.5555555555555556,
             "#d8576b"
            ],
            [
             0.6666666666666666,
             "#ed7953"
            ],
            [
             0.7777777777777778,
             "#fb9f3a"
            ],
            [
             0.8888888888888888,
             "#fdca26"
            ],
            [
             1,
             "#f0f921"
            ]
           ]
          },
          "colorway": [
           "#636efa",
           "#EF553B",
           "#00cc96",
           "#ab63fa",
           "#FFA15A",
           "#19d3f3",
           "#FF6692",
           "#B6E880",
           "#FF97FF",
           "#FECB52"
          ],
          "font": {
           "color": "#2a3f5f"
          },
          "geo": {
           "bgcolor": "white",
           "lakecolor": "white",
           "landcolor": "#E5ECF6",
           "showlakes": true,
           "showland": true,
           "subunitcolor": "white"
          },
          "hoverlabel": {
           "align": "left"
          },
          "hovermode": "closest",
          "mapbox": {
           "style": "light"
          },
          "paper_bgcolor": "white",
          "plot_bgcolor": "#E5ECF6",
          "polar": {
           "angularaxis": {
            "gridcolor": "white",
            "linecolor": "white",
            "ticks": ""
           },
           "bgcolor": "#E5ECF6",
           "radialaxis": {
            "gridcolor": "white",
            "linecolor": "white",
            "ticks": ""
           }
          },
          "scene": {
           "xaxis": {
            "backgroundcolor": "#E5ECF6",
            "gridcolor": "white",
            "gridwidth": 2,
            "linecolor": "white",
            "showbackground": true,
            "ticks": "",
            "zerolinecolor": "white"
           },
           "yaxis": {
            "backgroundcolor": "#E5ECF6",
            "gridcolor": "white",
            "gridwidth": 2,
            "linecolor": "white",
            "showbackground": true,
            "ticks": "",
            "zerolinecolor": "white"
           },
           "zaxis": {
            "backgroundcolor": "#E5ECF6",
            "gridcolor": "white",
            "gridwidth": 2,
            "linecolor": "white",
            "showbackground": true,
            "ticks": "",
            "zerolinecolor": "white"
           }
          },
          "shapedefaults": {
           "line": {
            "color": "#2a3f5f"
           }
          },
          "ternary": {
           "aaxis": {
            "gridcolor": "white",
            "linecolor": "white",
            "ticks": ""
           },
           "baxis": {
            "gridcolor": "white",
            "linecolor": "white",
            "ticks": ""
           },
           "bgcolor": "#E5ECF6",
           "caxis": {
            "gridcolor": "white",
            "linecolor": "white",
            "ticks": ""
           }
          },
          "title": {
           "x": 0.05
          },
          "xaxis": {
           "automargin": true,
           "gridcolor": "white",
           "linecolor": "white",
           "ticks": "",
           "title": {
            "standoff": 15
           },
           "zerolinecolor": "white",
           "zerolinewidth": 2
          },
          "yaxis": {
           "automargin": true,
           "gridcolor": "white",
           "linecolor": "white",
           "ticks": "",
           "title": {
            "standoff": 15
           },
           "zerolinecolor": "white",
           "zerolinewidth": 2
          }
         }
        },
        "title": {
         "text": "Используемые вакцины по странам"
        }
       }
      }
     },
     "metadata": {},
     "output_type": "display_data"
    }
   ],
   "source": [
    "def plot_map(metric_column, title_text, color_scale):\n",
    "    # Для категориальных данных (вакцины)\n",
    "    if metric_column == 'vaccines':\n",
    "        # Получаем уникальные вакцины (разбиваем комбинированные записи)\n",
    "        unique_vaccines = set()\n",
    "        for vaccine_list in df['vaccines'].str.split(', '):\n",
    "            unique_vaccines.update(vaccine_list)\n",
    "        \n",
    "        # Создаем словарь цветов\n",
    "        colors = px.colors.qualitative.Plotly\n",
    "        color_map = {v: colors[i % len(colors)] for i, v in enumerate(unique_vaccines)}\n",
    "        \n",
    "        # Разбиваем комбинированные записи\n",
    "        exploded = df.assign(vaccine=df['vaccines'].str.split(', ')).explode('vaccine')\n",
    "        \n",
    "        fig = px.choropleth(exploded.groupby(['country', 'vaccine']).size().reset_index(name='count'),\n",
    "                           locations=\"country\",\n",
    "                           locationmode='country names',\n",
    "                           color=\"vaccine\",\n",
    "                           color_discrete_map=color_map,\n",
    "                           title=title_text,\n",
    "                           hover_name=\"country\",\n",
    "                           hover_data=[\"vaccine\", \"count\"])\n",
    "    else:\n",
    "        # Для числовых данных\n",
    "        country_data = df.groupby('country')[metric_column].max().reset_index()\n",
    "        fig = px.choropleth(country_data,\n",
    "                           locations=\"country\",\n",
    "                           locationmode='country names',\n",
    "                           color=metric_column,\n",
    "                           color_continuous_scale=color_scale,\n",
    "                           title=title_text,\n",
    "                           range_color=[0, 100] if 'percent' in metric_column else None)\n",
    "    \n",
    "    fig.update_geos(showcoastlines=True, coastlinecolor=\"gray\")\n",
    "    fig.update_layout(margin={\"r\":0,\"t\":40,\"l\":0,\"b\":0})\n",
    "    fig.show()\n",
    "\n",
    "# Вызов функции для вакцин\n",
    "plot_map('vaccines', 'Используемые вакцины по странам', None)"
   ]
  },
  {
   "cell_type": "markdown",
   "metadata": {},
   "source": [
    "**Анализ карты вакцинации**\n",
    "\n",
    "Данная визуализация позволяет нам сделать несколько ключевых выводов:\n",
    "\n",
    "1. Распределение вакцин по странам:\n",
    "\n",
    "Четко прослеживается географическая специфика использования разных типов вакцин\n",
    "\n",
    "Некоторые страны используют комбинации нескольких вакцин, что может говорить о:\n",
    "\n",
    "  *Стратегии диверсификации поставок\n",
    "\n",
    "  *Локальных клинических испытаниях\n",
    "\n",
    "  *Политических решениях в выборе поставщиков\n",
    "\n",
    "2. Интенсивность вакцинации:\n",
    "\n",
    "Цветовая шкала показывает уровень охвата населения\n",
    "\n",
    "Яркие различия между регионами могут указывать на:\n",
    "\n",
    "  *Экономические факторы\n",
    " \n",
    "  *Логистические возможности\n",
    "\n",
    "Разные сроки начала кампаний вакцинации\n",
    "\n",
    "     Практическое применение:\n",
    "\n",
    "Выявление стран с низким охватом для целевой помощи\n",
    "\n",
    "Анализ эффективности разных комбинаций вакцин\n",
    "\n",
    "Сравнение стратегий вакцинации между регионами\n",
    "\n",
    "Прогнозирование сроков достижения коллективного иммунитета"
   ]
  },
  {
   "cell_type": "code",
   "execution_count": 8,
   "metadata": {},
   "outputs": [
    {
     "data": {
      "image/png": "[encoded data removed]",
      "text/plain": [
       "<Figure size 1000x800 with 1 Axes>"
      ]
     },
     "metadata": {},
     "output_type": "display_data"
    }
   ],
   "source": [
    "# 1. Подготовка данных\n",
    "total_by_country = df.groupby('country')['total_vaccinations'].max().sort_values(ascending=False)\n",
    "top_12 = total_by_country.head(12)\n",
    "others = pd.Series({'Другие страны': total_by_country[10:].sum()})\n",
    "combined = pd.concat([top_12, others])\n",
    "\n",
    "# 2. Создание круговой диаграммы\n",
    "plt.figure(figsize=(10, 8))\n",
    "patches, texts, autotexts = plt.pie(combined,\n",
    "                                   labels=combined.index,\n",
    "                                   autopct='%1.1f%%',\n",
    "                                   startangle=90,\n",
    "                                   pctdistance=0.8,\n",
    "                                   textprops={'fontsize': 10},\n",
    "                                   wedgeprops={'linewidth': 1, 'edgecolor': 'white'})\n",
    "\n",
    "# 3. Настройка отображения\n",
    "plt.setp(texts, size=10)\n",
    "plt.setp(autotexts, size=10, color='white', weight='bold')\n",
    "plt.title('\"Топ-12 стран по количеству проведённых вакцинаций\"', fontsize=14, pad=20)\n",
    "\n",
    "# 4. Добавление легенды\n",
    "plt.legend(patches,\n",
    "           combined.index,\n",
    "           title=\"Страны\",\n",
    "           loc=\"center left\",\n",
    "           bbox_to_anchor=(1, 0.5))\n",
    "\n",
    "plt.tight_layout()\n",
    "plt.show()"
   ]
  },
  {
   "cell_type": "markdown",
   "metadata": {},
   "source": [
    "**Анализ распределения вакцинаций по странам (Топ-12)**\n",
    "\n",
    "Данная круговая диаграмма наглядно демонстрирует распределение общего количества вакцинаций между странами, выделяя 12 лидеров по объёмам вакцинации и объединяя остальные страны в группу \"Другие\".\n",
    "\n",
    "\n",
    "**Ключевые выводы:**\n",
    "\n",
    "Доминирование нескольких стран - диаграмма показывает значительное неравномерное распределение, где небольшая группа стран обеспечивает основной объём вакцинаций\n",
    "\n",
    "Сравнение масштабов - позволяет визуально сравнить вклад разных стран в общий процесс вакцинации\n",
    "\n",
    "Доля \"других стран\" - показывает, насколько велик вклад стран, не вошедших в топ-12\n",
    "\n",
    "     Практическое применение:\n",
    "\n",
    "Выявление лидеров для изучения их опыта\n",
    "\n",
    "Определение стран, нуждающихся в поддержке\n",
    "\n",
    "Анализ корреляции с демографическими показателями\n",
    "\n",
    "Оценка эффективности глобальных программ вакцинации"
   ]
  },
  {
   "cell_type": "code",
   "execution_count": 9,
   "metadata": {},
   "outputs": [
    {
     "data": {
      "image/png": "[encoded data removed]",
      "text/plain": [
       "<Figure size 1200x600 with 1 Axes>"
      ]
     },
     "metadata": {},
     "output_type": "display_data"
    }
   ],
   "source": [
    "# Группируем по комбинациям вакцин и считаем УНИКАЛЬНЫЕ страны\n",
    "vaccine_stats = df.groupby('vaccines')['country'].nunique().sort_values(ascending=False).head(10)\n",
    "\n",
    "# Визуализация\n",
    "plt.figure(figsize=(12, 6)) \n",
    "vaccine_stats.plot(kind='barh', color='skyblue')\n",
    "plt.title('Топ-10 комбинаций вакцин по количеству стран, использующих их', fontsize=16) \n",
    "plt.xlabel('Количество стран', fontsize=12)\n",
    "plt.ylabel('Комбинации вакцин', fontsize=12)\n",
    "\n",
    "# Устанавливаем целочисленные значения на оси X\n",
    "max_count = int(vaccine_stats.max()) + 2 # Максимальное значение + небольшой запас\n",
    "plt.xticks(np.arange(0, max_count, step=1)) # Шаг = 1\n",
    "\n",
    "plt.gca().invert_yaxis() # Первое место сверху\n",
    "\n",
    "# Добавляем подписи значений на столбцы для лучшей читаемости\n",
    "for index, value in enumerate(vaccine_stats):\n",
    "    plt.text(value + 0.2, index, str(value), va='center') # Размещение текста\n",
    "\n",
    "plt.grid(axis='x', linestyle='--', alpha=0.7) # Добавляем сетку по оси X\n",
    "plt.tight_layout() # Автоматически корректирует параметры подграфиков для плотного размещения\n",
    "plt.show()"
   ]
  },
  {
   "cell_type": "markdown",
   "metadata": {},
   "source": [
    "**Инсайты об использовании комбинаций вакцин:**\n",
    "\n",
    "* **Доминирующие комбинации:** График наглядно показывает, что большинство стран используют одну или несколько широко распространенных вакцин. Можно отметить, что наиболее распространенными являются комбинации с **Oxford/AstraZeneca**, используемой в **20** странах.\n",
    "* **Разнообразие стратегий:** Некоторые страны предпочитали использовать ограниченный набор вакцин, в то время как другие (особенно те, которые используют 4+ комбинации), вероятно, придерживались стратегии диверсификации поставок для обеспечения максимального охвата.\n",
    "* **Логистические вызовы:** Широкое разнообразие вакцин может создавать сложности для логистики и хранения, а также для информирования населения."
   ]
  },
  {
   "cell_type": "markdown",
   "metadata": {},
   "source": [
    "**Метрики прогресса вакцинации в России:**"
   ]
  },
  {
   "cell_type": "code",
   "execution_count": 10,
   "metadata": {},
   "outputs": [
    {
     "name": "stdout",
     "output_type": "stream",
     "text": [
      "Метрики прогресса вакцинации в России:\n",
      "Первая дата вакцинации: 2020-12-15\n",
      "Последняя дата вакцинации: 2022-03-29\n",
      "Максимальный процент вакцинированных: 54.8%\n",
      "Максимальный процент полностью вакцинированных: 49.92%\n",
      "Максимальное число дневных вакцинаций: 1,020,075.0\n"
     ]
    },
    {
     "data": {
      "image/png": "[encoded data removed]",
      "text/plain": [
       "<Figure size 1400x700 with 2 Axes>"
      ]
     },
     "metadata": {},
     "output_type": "display_data"
    },
    {
     "name": "stdout",
     "output_type": "stream",
     "text": [
      "\n",
      "Последние доступные данные:\n",
      "Дата: 2022-03-29\n",
      "Процент населения с хотя бы одной дозой: 54.80%\n",
      "Процент полностью вакцинированных: 49.92%\n",
      "Общее количество вакцинаций: 163,601,171.0\n",
      "Дневных вакцинаций: 165,417.0\n"
     ]
    }
   ],
   "source": [
    "# Фильтрация данных по России\n",
    "russia_data = df[df['country'] == 'Russia'].copy()\n",
    "\n",
    "# Преобразование даты в datetime для правильной сортировки\n",
    "russia_data['date'] = pd.to_datetime(russia_data['date'])\n",
    "russia_data.sort_values('date', inplace=True)\n",
    "\n",
    "# Расчет метрик прогресса\n",
    "print(\"Метрики прогресса вакцинации в России:\")\n",
    "print(f\"Первая дата вакцинации: {russia_data['date'].min().strftime('%Y-%m-%d')}\")\n",
    "print(f\"Последняя дата вакцинации: {russia_data['date'].max().strftime('%Y-%m-%d')}\")\n",
    "print(f\"Максимальный процент вакцинированных: {russia_data['people_vaccinated_per_hundred'].max()}%\")\n",
    "print(f\"Максимальный процент полностью вакцинированных: {russia_data['people_fully_vaccinated_per_hundred'].max()}%\")\n",
    "print(f\"Максимальное число дневных вакцинаций: {russia_data['daily_vaccinations'].max():,}\")\n",
    "\n",
    "# Визуализация прогресса\n",
    "plt.figure(figsize=(14, 7))\n",
    "\n",
    "# График процента вакцинированных\n",
    "plt.subplot(2, 1, 1)\n",
    "plt.plot(russia_data['date'], russia_data['people_vaccinated_per_hundred'], \n",
    "         label='Получили хотя бы одну дозу', color='blue')\n",
    "plt.plot(russia_data['date'], russia_data['people_fully_vaccinated_per_hundred'], \n",
    "         label='Полностью вакцинированы', color='green')\n",
    "plt.title('Прогресс вакцинации в России')\n",
    "plt.ylabel('Процент населения')\n",
    "plt.legend()\n",
    "plt.grid()\n",
    "\n",
    "# График ежедневных вакцинаций\n",
    "plt.subplot(2, 1, 2)\n",
    "plt.bar(russia_data['date'], russia_data['daily_vaccinations'], \n",
    "        color='orange', alpha=0.7)\n",
    "plt.title('Ежедневные вакцинации в России')\n",
    "plt.ylabel('Количество вакцинаций')\n",
    "plt.xlabel('Дата')\n",
    "plt.grid()\n",
    "\n",
    "plt.tight_layout()\n",
    "plt.show()\n",
    "\n",
    "# Расчет кумулятивного процента вакцинированных\n",
    "total_population = 144_100_000  # Примерная численность населения России\n",
    "russia_data['total_vaccinated_percent'] = russia_data['people_vaccinated'] / total_population * 100\n",
    "russia_data['fully_vaccinated_percent'] = russia_data['people_fully_vaccinated'] / total_population * 100\n",
    "\n",
    "# Вывод последних доступных данных\n",
    "latest_data = russia_data.iloc[-1]\n",
    "print(\"\\nПоследние доступные данные:\")\n",
    "print(f\"Дата: {latest_data['date'].strftime('%Y-%m-%d')}\")\n",
    "print(f\"Процент населения с хотя бы одной дозой: {latest_data['people_vaccinated_per_hundred']:.2f}%\")\n",
    "print(f\"Процент полностью вакцинированных: {latest_data['people_fully_vaccinated_per_hundred']:.2f}%\")\n",
    "print(f\"Общее количество вакцинаций: {latest_data['total_vaccinations']:,}\")\n",
    "print(f\"Дневных вакцинаций: {latest_data['daily_vaccinations']:,}\")"
   ]
  },
  {
   "cell_type": "markdown",
   "metadata": {},
   "source": [
    "**Анализ вакцинации в России (12.2020 - 03.2022)**\n",
    "Ключевые показатели:\n",
    "\n",
    "Период кампании: 15.12.2020 - 29.03.2022 (15 месяцев)\n",
    "\n",
    "**Охват населения:**\n",
    "\n",
    "54.8% - получили ≥1 дозу\n",
    "\n",
    "49.92% - полностью вакцинированы\n",
    "\n",
    "Пиковая активность: 1,020,075 доз/день\n",
    "\n",
    "Итоговые показатели (на 29.03.2022):\n",
    "\n",
    "Всего введено доз: 163.6 млн\n",
    "\n",
    "Последние сутки: 165,417 доз\n",
    "\n",
    "**Тенденции:**\n",
    "\n",
    "Максимальный суточный показатель превышал 1 млн доз\n",
    "\n",
    "Разрыв между первой и второй дозой составил ~5%\n",
    "\n",
    "Завершающий этап (03.2022) показывает снижение темпов до ~165 тыс. доз/день\n",
    "\n",
    "**Сравнение с мировыми показателями:**\n",
    "\n",
    "Охват первой дозой (54.8%) ниже среднего по ЕС (~75% на 2022 г.)\n",
    "\n",
    "Полная вакцинация (49.92%) соответствует уровню развивающихся стран\n",
    "\n",
    "\n",
    "\n"
   ]
  }
 ],
 "metadata": {
  "kernelspec": {
   "display_name": "Python 3.13.2 64-bit",
   "language": "python",
   "name": "python3"
  },
  "language_info": {
   "codemirror_mode": {
    "name": "ipython",
    "version": 3
   },
   "file_extension": ".py",
   "mimetype": "text/x-python",
   "name": "python",
   "nbconvert_exporter": "python",
   "pygments_lexer": "ipython3",
   "version": "3.13.2"
  },
  "orig_nbformat": 4,
  "vscode": {
   "interpreter": {
    "hash": "b0371998a84e86fdcfa89bae8614b874d0cf4a2e7156822d68f7cca09c544550"
   }
  }
 },
 "nbformat": 4,
 "nbformat_minor": 2
}
